{
 "cells": [
  {
   "cell_type": "markdown",
   "metadata": {},
   "source": [
    "## Chapter 4 Logistic Regression##   \n",
    "  \n",
    "### Outline ###\n",
    "1. Introduction\n",
    "1. Logistic Regression Model\n",
    "1. Hypothesis Representation\n",
    "1. Decision Boundary\n",
    "1. Prediction\n",
    "  \n",
    "### 1. Introduction ###  \n",
    "    - Regression vs Classification\n",
    "    - The output is categorical\n",
    "    - Example:\n",
    "        - We want to know whether a tumor is benign or malignant\n",
    "        - We need to know whether an email is spam or ham.\n",
    "        \n",
    "### 2. Logistic Regression Model ###  \n",
    "  \n",
    "  For a binary case, suppose we want to predict if a tumor is benign or malignant, we can simplify this case into: \n",
    "  \n",
    "  $benign = 0$ and $malignant = 1$  \n",
    "  \n",
    "  we have $ y \\in \\{0|1\\} $\n",
    "  \n",
    "### 3. Hypothesis Representation ###  \n",
    "  \n",
    "  In this case, we can use a sigmoid function. Thus, we have\n",
    "  \n",
    "  $h_\\theta(x) = g(\\theta^Tx)$  \n",
    "  $z = \\theta^Tx$  \n",
    "  $g(z) = \\frac{1}{1+ e^{-z}}$\n",
    "  \n",
    "  The function $g(z)$ represents every real number between 0 and 1. In math term, we write $ 0 \\le h_\\theta(x) \\le 1$. $h_\\theta(x)$ is the probability for an output of 1 or 0. For instance, if $h_\\theta(x) = 0.7$, we have a probability 70% of getting 1. On the other hand, we have 30% chances of getting 0. So, we have:  \n",
    "  \n",
    "  $h_\\theta(x) = P(y=1|x;\\theta) = 1 - P(y=0|x;\\theta)$\n",
    "  \n",
    "  $P(y=1|x;\\theta) + P(y=0|x;\\theta) = 1$\n",
    "  \n",
    "  Let see the visualization of a sigmoid function\n",
    "  "
   ]
  },
  {
   "cell_type": "code",
   "execution_count": 4,
   "metadata": {},
   "outputs": [
    {
     "data": {
      "image/png": "[encoded data removed]",
      "text/plain": [
       "<Figure size 432x288 with 1 Axes>"
      ]
     },
     "metadata": {
      "needs_background": "light"
     },
     "output_type": "display_data"
    }
   ],
   "source": [
    "import numpy as np\n",
    "import matplotlib.pyplot as plt\n",
    "\n",
    "def sigmoid(x):\n",
    "    return 1 / (1 + np.exp(-x))\n",
    "\n",
    "x = np.arange(-10,10, 0.1) #  -10,-9.9,-9.8,... 9.8,9.9,10\n",
    "y = sigmoid(x)\n",
    "\n",
    "plt.plot(x,y)\n",
    "plt.show()"
   ]
  },
  {
   "cell_type": "markdown",
   "metadata": {},
   "source": [
    "### 4. Desicion Boundary ###  \n",
    "  \n",
    "  Decision boundary is a line that separates the output of the sigmoid function result where y = 0 and y = 1  \n",
    "  \n",
    "  In order to get this output, we can write down our function as follows:  \n",
    "  \n",
    "  $h_\\theta(x) \\ge 0.5 \\to y = 1$  \n",
    "  \n",
    "  $h_\\theta(x) < 0.5 \\to y = 0$\n"
   ]
  },
  {
   "cell_type": "code",
   "execution_count": 5,
   "metadata": {},
   "outputs": [],
   "source": [
    "import pandas as pd\n",
    "\n",
    "df = pd.read_csv(\"dataset/tumor.csv\")\n",
    "df = df.drop('Unnamed: 32', axis=1) # kolom ini dibuang\n",
    "X = df.drop(['id','diagnosis'],axis=1) # mengambil nilai variabel independen/variabel penentu nilai y/atribut\n",
    "# X apakah matrix / vektor? matrix\n",
    "\n",
    "y = df.iloc[:,1] # mengambil nilai variabel dependen/variabel yang ditentukan oleh variabel independennya\n",
    "\n",
    "# y apakah matriks/vektor? vektor \n"
   ]
  },
  {
   "cell_type": "code",
   "execution_count": 6,
   "metadata": {},
   "outputs": [
    {
     "name": "stdout",
     "output_type": "stream",
     "text": [
      "Actual breast cancer : \n",
      "['B' 'B' 'B' 'M' 'B' 'B' 'B' 'B' 'B' 'B' 'M' 'M' 'M' 'M' 'B' 'M' 'B' 'M'\n",
      " 'M' 'B' 'M' 'M' 'B' 'B' 'B' 'M' 'B' 'B' 'B' 'B' 'B' 'M' 'B' 'M' 'B' 'B'\n",
      " 'B' 'B' 'B' 'M' 'B' 'M' 'M' 'B' 'B' 'B' 'B' 'B' 'B' 'B' 'B' 'B' 'M' 'B'\n",
      " 'B' 'B' 'B' 'M' 'B' 'B' 'B' 'M' 'M' 'B' 'M' 'B' 'B' 'B' 'B' 'M' 'M' 'B'\n",
      " 'B' 'B' 'M' 'B' 'M' 'B' 'M' 'B' 'B' 'B' 'B' 'M' 'M' 'M' 'B' 'M' 'M' 'M'\n",
      " 'B' 'B' 'M' 'B' 'B' 'B' 'B' 'M' 'M' 'M' 'B' 'M' 'B' 'M' 'B' 'M' 'B' 'M'\n",
      " 'B' 'M' 'M' 'M' 'B' 'B']\n",
      "\n",
      "Predicted breast cancer : \n",
      "['B' 'B' 'B' 'M' 'B' 'B' 'B' 'B' 'B' 'B' 'B' 'M' 'M' 'M' 'B' 'M' 'B' 'M'\n",
      " 'M' 'B' 'M' 'B' 'B' 'M' 'B' 'M' 'B' 'B' 'B' 'B' 'B' 'M' 'B' 'M' 'B' 'B'\n",
      " 'B' 'B' 'B' 'M' 'B' 'M' 'M' 'B' 'B' 'B' 'B' 'B' 'B' 'B' 'B' 'B' 'M' 'B'\n",
      " 'B' 'B' 'B' 'B' 'B' 'B' 'B' 'M' 'M' 'B' 'M' 'B' 'B' 'B' 'B' 'M' 'M' 'B'\n",
      " 'B' 'B' 'M' 'B' 'M' 'B' 'M' 'B' 'B' 'B' 'B' 'M' 'B' 'M' 'B' 'M' 'M' 'M'\n",
      " 'B' 'B' 'M' 'B' 'B' 'B' 'B' 'M' 'M' 'M' 'B' 'M' 'B' 'M' 'B' 'M' 'M' 'M'\n",
      " 'B' 'M' 'M' 'M' 'B' 'B']\n",
      "\n",
      "Accuracy score : 94.736842\n"
     ]
    }
   ],
   "source": [
    "from sklearn.model_selection import train_test_split\n",
    "from sklearn.metrics import accuracy_score, recall_score, roc_auc_score, confusion_matrix\n",
    "from sklearn.linear_model import LogisticRegression\n",
    "# library scikit learn / sklearn\n",
    "\n",
    "X_train, X_test, y_train, y_test = train_test_split(X, y, shuffle = True, test_size=0.2) \n",
    "# total data 569 data\n",
    "# test_size = 0.2 artinya dataset dibagi menjadi 20% untuk testing, 80% training\n",
    "\n",
    "clf = LogisticRegression(max_iter=1000, solver='liblinear') # max_iter = max epoch = 1000 kali epoch\n",
    "clf.fit(X_train,y_train) # fit itu berisi training, validation, dan learning rate\n",
    "\n",
    "y_pred = clf.predict(X_test) # prediksi thd test 20%\n",
    "\n",
    "\n",
    "print(\"Actual breast cancer : \")\n",
    "print(y_test.values)\n",
    "\n",
    "print(\"\\nPredicted breast cancer : \")\n",
    "print(y_pred)\n",
    "\n",
    "print(\"\\nAccuracy score : %f\" %(accuracy_score(y_test, y_pred) * 100))\n",
    "\n",
    "\n"
   ]
  },
  {
   "cell_type": "code",
   "execution_count": null,
   "metadata": {},
   "outputs": [],
   "source": []
  }
 ],
 "metadata": {
  "kernelspec": {
   "display_name": "Python 3",
   "language": "python",
   "name": "python3"
  },
  "language_info": {
   "codemirror_mode": {
    "name": "ipython",
    "version": 3
   },
   "file_extension": ".py",
   "mimetype": "text/x-python",
   "name": "python",
   "nbconvert_exporter": "python",
   "pygments_lexer": "ipython3",
   "version": "3.8.10"
  }
 },
 "nbformat": 4,
 "nbformat_minor": 4
}
