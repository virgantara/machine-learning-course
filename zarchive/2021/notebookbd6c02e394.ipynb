{
 "cells": [
  {
   "cell_type": "markdown",
   "metadata": {},
   "source": [
    "## Overview ##\n",
    "\n",
    "1. Pengenalan Scikit Learn\n",
    "1. Instalasi\n",
    "1. Regresi Linier\n",
    "1. Regresi Logistik\n",
    "1. Support Vector Machine\n",
    "1. Multi-Layered Perceptron (MLP)\n",
    "\n",
    "### 1. Pengenalan Scikit Learn ###\n",
    "\n",
    "Scikit-Learn (SKLearn) adalah library python untuk machine learning yang mendukung supervised dan unsupervised learning. SKLearn merupakan produk dari project **Google Summer of Code project** oleh **David Cournapeau**. \n",
    "\n",
    "### 2. Instalasi ###\n",
    "\n",
    "Instalasi scikit-learn cukup mudah, yaitu cukup dengan menjalankan perintah berikut:\n",
    "\n",
    "```console\n",
    "pip install scikit-learn\n",
    "```\n",
    "\n",
    "### 3. Regresi Linier ###\n",
    "\n",
    "### 4. Regresi Logistik ### \n",
    "\n",
    "### 5. Support Vector Machine ###\n",
    "\n",
    "### 6. Multi-Layered Perceptron ###"
   ]
  }
 ],
 "metadata": {
  "kernelspec": {
   "display_name": "Python 3",
   "language": "python",
   "name": "python3"
  },
  "language_info": {
   "codemirror_mode": {
    "name": "ipython",
    "version": 3
   },
   "file_extension": ".py",
   "mimetype": "text/x-python",
   "name": "python",
   "nbconvert_exporter": "python",
   "pygments_lexer": "ipython3",
   "version": "3.8.10"
  }
 },
 "nbformat": 4,
 "nbformat_minor": 4
}
