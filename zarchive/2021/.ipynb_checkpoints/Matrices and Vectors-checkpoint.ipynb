{
 "cells": [
  {
   "cell_type": "markdown",
   "metadata": {},
   "source": [
    "**A. Contoh matriks dan vector**  \n",
    "\n",
    "$\\mathbf{A}$ adalah Matriks  \n",
    "$\\mathbf{v}$ adalah vektor\n"
   ]
  },
  {
   "cell_type": "code",
   "execution_count": 2,
   "metadata": {},
   "outputs": [],
   "source": [
    "import numpy as np\n",
    "\n",
    "A = np.array([[1, 2, 3],\n",
    "              [ 4, 5, 6], \n",
    "              [7, 8, 9] ,\n",
    "              [10, 11, 12]])\n",
    "\n",
    "v = np.array([[1,2,3]])\n",
    "\n"
   ]
  },
  {
   "cell_type": "markdown",
   "metadata": {},
   "source": [
    "**B. Penjumlahan, Pengurangan, dan Perkalian matriks**"
   ]
  },
  {
   "cell_type": "code",
   "execution_count": 3,
   "metadata": {},
   "outputs": [
    {
     "name": "stdout",
     "output_type": "stream",
     "text": [
      "Penjumlahan\n",
      "[[ 8 10]\n",
      " [13 15]]\n",
      "Pengurangan\n",
      "[[-6 -6]\n",
      " [-5 -5]]\n",
      "Perkalian\n",
      "[[ 7 16]\n",
      " [36 50]]\n"
     ]
    }
   ],
   "source": [
    "x = np.array([[1, 2], [4, 5]])\n",
    "y = np.array([[7, 8], [9, 10]])\n",
    "\n",
    "print(\"Penjumlahan\")\n",
    "print(np.add(x,y))\n",
    "\n",
    "print(\"Pengurangan\")\n",
    "print(np.subtract(x,y))\n",
    "\n",
    "print(\"Perkalian\")\n",
    "print(np.multiply(x,y))"
   ]
  },
  {
   "cell_type": "markdown",
   "metadata": {},
   "source": [
    "**C. Tranpose dan Inverse**"
   ]
  },
  {
   "cell_type": "code",
   "execution_count": 4,
   "metadata": {},
   "outputs": [
    {
     "name": "stdout",
     "output_type": "stream",
     "text": [
      "Tranpose dari x\n",
      "[[1 4]\n",
      " [2 5]]\n",
      "Inverse Matrix\n",
      "[[-1.66666667  0.66666667]\n",
      " [ 1.33333333 -0.33333333]]\n"
     ]
    }
   ],
   "source": [
    "print(\"Tranpose dari x\")\n",
    "print(x.T)\n",
    "\n",
    "print(\"Inverse Matrix\")\n",
    "print(np.linalg.inv(x))"
   ]
  }
 ],
 "metadata": {
  "kernelspec": {
   "display_name": "Python 3 (ipykernel)",
   "language": "python",
   "name": "python3"
  },
  "language_info": {
   "codemirror_mode": {
    "name": "ipython",
    "version": 3
   },
   "file_extension": ".py",
   "mimetype": "text/x-python",
   "name": "python",
   "nbconvert_exporter": "python",
   "pygments_lexer": "ipython3",
   "version": "3.9.0"
  }
 },
 "nbformat": 4,
 "nbformat_minor": 4
}
