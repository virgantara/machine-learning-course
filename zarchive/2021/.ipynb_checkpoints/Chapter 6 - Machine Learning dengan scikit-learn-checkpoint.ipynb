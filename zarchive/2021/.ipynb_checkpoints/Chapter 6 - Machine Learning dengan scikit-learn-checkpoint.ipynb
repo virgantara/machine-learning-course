{
 "cells": [
  {
   "cell_type": "markdown",
   "metadata": {},
   "source": [
    "## Overview ##\n",
    "\n",
    "1. Pengenalan Scikit Learn\n",
    "1. Instalasi\n",
    "1. Regresi Linier\n",
    "1. Regresi Logistik\n",
    "1. Support Vector Machine\n",
    "1. Multi-Layered Perceptron (MLP)\n",
    "1. K-Fold Cross Validation\n",
    "\n",
    "### 1. Pengenalan Scikit Learn ###\n",
    "\n",
    "Scikit-Learn (SKLearn) adalah library python untuk machine learning yang mendukung supervised dan unsupervised learning. SKLearn merupakan produk dari project **Google Summer of Code project** oleh **David Cournapeau**. \n",
    "\n",
    "### 2. Instalasi ###\n",
    "\n",
    "Instalasi scikit-learn cukup mudah, yaitu cukup dengan menjalankan perintah berikut:\n",
    "\n",
    "$<code>pip install scikit-learn</code>  \n",
    "\n",
    "Adapun dengan Python 3, perintahnya adalah:\n",
    "\n",
    "$<code>pip3 install scikit-learn</code>\n",
    "\n",
    "### 3. Regresi Linier ###\n",
    "\n",
    "#### Import library yang diperlukan ####\n"
   ]
  },
  {
   "cell_type": "code",
   "execution_count": 523,
   "metadata": {},
   "outputs": [],
   "source": [
    "import pandas as pd\n",
    "import numpy as np\n",
    "import matplotlib.pyplot as plt\n",
    "%matplotlib inline\n",
    "\n",
    "from sklearn.model_selection import train_test_split\n",
    "import sklearn.metrics as metrics\n"
   ]
  },
  {
   "cell_type": "markdown",
   "metadata": {},
   "source": [
    "#### Membaca dataset dengan library Pandas ####"
   ]
  },
  {
   "cell_type": "code",
   "execution_count": 524,
   "metadata": {},
   "outputs": [
    {
     "data": {
      "text/html": [
       "<div>\n",
       "<style scoped>\n",
       "    .dataframe tbody tr th:only-of-type {\n",
       "        vertical-align: middle;\n",
       "    }\n",
       "\n",
       "    .dataframe tbody tr th {\n",
       "        vertical-align: top;\n",
       "    }\n",
       "\n",
       "    .dataframe thead th {\n",
       "        text-align: right;\n",
       "    }\n",
       "</style>\n",
       "<table border=\"1\" class=\"dataframe\">\n",
       "  <thead>\n",
       "    <tr style=\"text-align: right;\">\n",
       "      <th></th>\n",
       "      <th>luas</th>\n",
       "      <th>harga</th>\n",
       "    </tr>\n",
       "  </thead>\n",
       "  <tbody>\n",
       "    <tr>\n",
       "      <th>0</th>\n",
       "      <td>1600</td>\n",
       "      <td>329900</td>\n",
       "    </tr>\n",
       "    <tr>\n",
       "      <th>1</th>\n",
       "      <td>2400</td>\n",
       "      <td>369000</td>\n",
       "    </tr>\n",
       "    <tr>\n",
       "      <th>2</th>\n",
       "      <td>1416</td>\n",
       "      <td>232000</td>\n",
       "    </tr>\n",
       "    <tr>\n",
       "      <th>3</th>\n",
       "      <td>3000</td>\n",
       "      <td>539900</td>\n",
       "    </tr>\n",
       "    <tr>\n",
       "      <th>4</th>\n",
       "      <td>1985</td>\n",
       "      <td>299900</td>\n",
       "    </tr>\n",
       "  </tbody>\n",
       "</table>\n",
       "</div>"
      ],
      "text/plain": [
       "   luas   harga\n",
       "0  1600  329900\n",
       "1  2400  369000\n",
       "2  1416  232000\n",
       "3  3000  539900\n",
       "4  1985  299900"
      ]
     },
     "execution_count": 524,
     "metadata": {},
     "output_type": "execute_result"
    }
   ],
   "source": [
    "data = pd.read_csv('dataset/oregon.csv')\n",
    "\n",
    "data.columns =(['luas','jmltt','harga'])\n",
    "data.drop(['jmltt'], axis=1, inplace=True)\n",
    "\n",
    "X = data['luas']\n",
    "y = data['harga']\n",
    "data.head()"
   ]
  },
  {
   "cell_type": "markdown",
   "metadata": {},
   "source": [
    "Plot datanya dengan matplotlib"
   ]
  },
  {
   "cell_type": "code",
   "execution_count": 525,
   "metadata": {},
   "outputs": [
    {
     "data": {
      "image/png": "[encoded data removed]",
      "text/plain": [
       "<Figure size 432x288 with 1 Axes>"
      ]
     },
     "metadata": {
      "needs_background": "light"
     },
     "output_type": "display_data"
    }
   ],
   "source": [
    "plt.scatter(X.values, y.values)\n",
    "plt.show()"
   ]
  },
  {
   "cell_type": "markdown",
   "metadata": {},
   "source": [
    "#### Data Splitting ####"
   ]
  },
  {
   "cell_type": "code",
   "execution_count": 526,
   "metadata": {},
   "outputs": [],
   "source": [
    "x_train, x_test,y_train,y_test = train_test_split(X,y,test_size =0.2)"
   ]
  },
  {
   "cell_type": "markdown",
   "metadata": {},
   "source": [
    "#### Model LinearRegression ####\n",
    "\n",
    "Di scikit-learn terdapat beberapa class untuk machine learning, diantaranya adalah LinearRegression, LogisticRegression, MLPClassifier, dan sebagainya. Di bagian ini, kita akan menggunakan class LinearRegression. Caranya adalah:"
   ]
  },
  {
   "cell_type": "code",
   "execution_count": 527,
   "metadata": {},
   "outputs": [],
   "source": [
    "from sklearn.linear_model import LinearRegression\n",
    "lr = LinearRegression()  # load class"
   ]
  },
  {
   "cell_type": "markdown",
   "metadata": {},
   "source": [
    "#### Data Training ####\n",
    "Data training dengan scikit-learn cukup mudah, hanya dengan memanggil perintah <code>fit</code>, fungsi-fungsi seperti feedforwarding dan backpro sudah berjalan. Berikut adalah kodenya:"
   ]
  },
  {
   "cell_type": "code",
   "execution_count": 528,
   "metadata": {},
   "outputs": [
    {
     "data": {
      "text/plain": [
       "LinearRegression()"
      ]
     },
     "execution_count": 528,
     "metadata": {},
     "output_type": "execute_result"
    }
   ],
   "source": [
    "lr.fit(x_train.values.reshape(-1,1), y_train.values.reshape(-1,1))"
   ]
  },
  {
   "cell_type": "markdown",
   "metadata": {},
   "source": [
    "#### Prediksi dan Evaluasi Model ####\n",
    "Di sini, kita akan memprediksi dengan data hasil splitting dan mengevaluasi performanya dengan MSE."
   ]
  },
  {
   "cell_type": "code",
   "execution_count": 529,
   "metadata": {},
   "outputs": [
    {
     "name": "stdout",
     "output_type": "stream",
     "text": [
      "Hasil prediksi 5 data teratas [[395532.00078234]\n",
      " [282962.97471881]\n",
      " [364595.01671408]\n",
      " [665645.66840361]\n",
      " [322609.10976428]]\n",
      "Data riil 5 data teratas 1     369000\n",
      "5     314900\n",
      "38    287000\n",
      "12    699900\n",
      "29    349900\n",
      "Name: harga, dtype: int64\n",
      "R2 0.8935342988091385\n"
     ]
    }
   ],
   "source": [
    "pred_y = lr.predict(x_test.values.reshape(-1,1))\n",
    "print(\"Hasil prediksi 5 data teratas {}\".format(pred_y[:5]))\n",
    "print(\"Data riil 5 data teratas {}\".format(y_test[:5]))\n",
    "\n",
    "mse = lr.score(x_test.values.reshape(-1,1), y_test.values.reshape(-1,1))\n",
    "print(\"R2 {}\".format(mse))"
   ]
  },
  {
   "cell_type": "markdown",
   "metadata": {},
   "source": [
    "Prediksi dengan MSE menunjukkan nilai dari $R^2$ sebesar 0.82. "
   ]
  },
  {
   "cell_type": "markdown",
   "metadata": {},
   "source": [
    "### 4. Regresi Logistik ### \n",
    "\n",
    "Di regresi logistik, kita akan memprediksi suatu tumor apakah ganas atau jinak dari dataset di [https://www.kaggle.com/uciml/breast-cancer-wisconsin-data](https://www.kaggle.com/uciml/breast-cancer-wisconsin-data).\n",
    "\n",
    "#### Load dataset ####"
   ]
  },
  {
   "cell_type": "code",
   "execution_count": 530,
   "metadata": {},
   "outputs": [],
   "source": [
    "import pandas as pd\n",
    "\n",
    "df = pd.read_csv(\"dataset/tumor.csv\")\n",
    "df = df.drop('Unnamed: 32', axis=1) # kolom ini dibuang\n",
    "X = df.drop(['id','diagnosis'],axis=1) # mengambil nilai variabel independen/variabel penentu nilai y/atribut\n",
    "# X apakah matrix / vektor? matrix\n",
    "\n",
    "y = df.iloc[:,1] # mengambil nilai variabel dependen/variabel yang ditentukan oleh variabel independennya\n",
    "\n",
    "# y apakah matriks/vektor? vektor "
   ]
  },
  {
   "cell_type": "markdown",
   "metadata": {},
   "source": [
    "#### Normalisasi Data ####\n",
    "Untuk normalisasi data, kita menggunakan min max scalling."
   ]
  },
  {
   "cell_type": "code",
   "execution_count": 531,
   "metadata": {},
   "outputs": [],
   "source": [
    "from sklearn.preprocessing import MinMaxScaler\n",
    "scaler = MinMaxScaler()\n",
    "scaler.fit(X)\n",
    "X = scaler.transform(X)"
   ]
  },
  {
   "cell_type": "markdown",
   "metadata": {},
   "source": [
    "#### Data splitting dan Training ####\n",
    "Data train dan test kita pisah dengan porsi 80:20"
   ]
  },
  {
   "cell_type": "code",
   "execution_count": 532,
   "metadata": {},
   "outputs": [
    {
     "data": {
      "text/plain": [
       "LogisticRegression(max_iter=1000)"
      ]
     },
     "execution_count": 532,
     "metadata": {},
     "output_type": "execute_result"
    }
   ],
   "source": [
    "from sklearn.model_selection import train_test_split\n",
    "from sklearn.metrics import accuracy_score, recall_score, roc_auc_score, confusion_matrix\n",
    "from sklearn.linear_model import LogisticRegression\n",
    "# library scikit learn / sklearn\n",
    "\n",
    "X_train, X_test, y_train, y_test = train_test_split(X, y, shuffle = True, test_size=0.2) \n",
    "# total data 569 data\n",
    "# test_size = 0.2 artinya dataset dibagi menjadi 20% untuk testing, 80% training\n",
    "\n",
    "clf = LogisticRegression(max_iter=1000) # max_iter = max epoch = 1000 kali epoch\n",
    "clf.fit(X_train,y_train) # fit itu berisi training, validation, dan learning rate\n"
   ]
  },
  {
   "cell_type": "markdown",
   "metadata": {},
   "source": [
    "#### Data Prediksi dan evaluasi performa ####\n",
    "\n",
    "Setelah training, kini saatnya kita memprediksi dengan data test dan mengevaluasi akurasi model yang dibangung. "
   ]
  },
  {
   "cell_type": "code",
   "execution_count": 533,
   "metadata": {},
   "outputs": [
    {
     "name": "stdout",
     "output_type": "stream",
     "text": [
      "Actual breast cancer : \n",
      "['B' 'B' 'M' 'M' 'B' 'M' 'B' 'M' 'M' 'M' 'M' 'B' 'M' 'M' 'B' 'B' 'B' 'B'\n",
      " 'M' 'M' 'M' 'B' 'B' 'M' 'B' 'B' 'M' 'M' 'B' 'B' 'B' 'B' 'B' 'M' 'B' 'M'\n",
      " 'M' 'B' 'B' 'B' 'B' 'M' 'M' 'B' 'B' 'M' 'M' 'B' 'M' 'B' 'B' 'B' 'M' 'B'\n",
      " 'M' 'B' 'B' 'B' 'B' 'B' 'M' 'B' 'B' 'B' 'B' 'B' 'B' 'B' 'B' 'B' 'M' 'M'\n",
      " 'B' 'M' 'M' 'M' 'B' 'M' 'B' 'M' 'B' 'B' 'B' 'B' 'M' 'B' 'B' 'M' 'B' 'B'\n",
      " 'B' 'M' 'B' 'B' 'M' 'M' 'B' 'M' 'B' 'B' 'B' 'B' 'B' 'M' 'B' 'B' 'B' 'M'\n",
      " 'M' 'M' 'B' 'M' 'M' 'M']\n",
      "\n",
      "Predicted breast cancer : \n",
      "['B' 'B' 'M' 'M' 'B' 'M' 'B' 'M' 'M' 'M' 'B' 'B' 'M' 'M' 'B' 'B' 'B' 'B'\n",
      " 'M' 'M' 'M' 'B' 'B' 'M' 'B' 'B' 'B' 'M' 'B' 'B' 'B' 'B' 'B' 'M' 'B' 'M'\n",
      " 'M' 'B' 'B' 'B' 'B' 'M' 'M' 'B' 'B' 'B' 'M' 'B' 'M' 'B' 'B' 'B' 'M' 'B'\n",
      " 'M' 'B' 'B' 'B' 'B' 'B' 'M' 'B' 'B' 'B' 'B' 'B' 'B' 'B' 'B' 'B' 'M' 'M'\n",
      " 'B' 'B' 'M' 'M' 'B' 'M' 'B' 'M' 'B' 'B' 'B' 'B' 'M' 'B' 'B' 'M' 'B' 'B'\n",
      " 'B' 'M' 'B' 'B' 'M' 'B' 'B' 'M' 'B' 'B' 'B' 'B' 'B' 'M' 'B' 'B' 'B' 'M'\n",
      " 'M' 'M' 'B' 'M' 'M' 'M']\n",
      "\n",
      "Accuracy score : 95.614035\n"
     ]
    }
   ],
   "source": [
    "y_pred = clf.predict(X_test) # prediksi thd test 20%\n",
    "\n",
    "\n",
    "print(\"Actual breast cancer : \")\n",
    "print(y_test.values)\n",
    "\n",
    "print(\"\\nPredicted breast cancer : \")\n",
    "print(y_pred)\n",
    "\n",
    "print(\"\\nAccuracy score : %f\" %(accuracy_score(y_test, y_pred) * 100))\n"
   ]
  },
  {
   "cell_type": "markdown",
   "metadata": {},
   "source": [
    "Akhirnya, selesai juga tahapan dari LogisticRegression. Saatnya kita berpindah ke algoritma selanjutnya, yaitu Support Vector Machine.\n",
    "\n",
    "### 5. Support Vector Machine ###\n",
    "\n",
    "Di bagian ini, kita akan menggunakan dataset bunga iris yang diambil dari [https://archive.ics.uci.edu/ml/datasets/iris](https://archive.ics.uci.edu/ml/datasets/iris). Dataset ini terdiri dari tiga class yaitu Iris Sentosa, Iris Versicolor, dan Iris Virginica. Dataset ini sudah sangat lazim dipakai untuk kasus supervised learning terutama klasifikasi.  \n",
    "\n",
    "#### Load dataset ####\n",
    "Langkah pertama, mari kita load terlebih dahulu dataset ini dengan cara berikut"
   ]
  },
  {
   "cell_type": "code",
   "execution_count": 534,
   "metadata": {},
   "outputs": [
    {
     "data": {
      "text/html": [
       "<div>\n",
       "<style scoped>\n",
       "    .dataframe tbody tr th:only-of-type {\n",
       "        vertical-align: middle;\n",
       "    }\n",
       "\n",
       "    .dataframe tbody tr th {\n",
       "        vertical-align: top;\n",
       "    }\n",
       "\n",
       "    .dataframe thead th {\n",
       "        text-align: right;\n",
       "    }\n",
       "</style>\n",
       "<table border=\"1\" class=\"dataframe\">\n",
       "  <thead>\n",
       "    <tr style=\"text-align: right;\">\n",
       "      <th></th>\n",
       "      <th>sepal length</th>\n",
       "      <th>sepal width</th>\n",
       "      <th>petal length</th>\n",
       "      <th>petal width</th>\n",
       "      <th>class</th>\n",
       "    </tr>\n",
       "  </thead>\n",
       "  <tbody>\n",
       "    <tr>\n",
       "      <th>0</th>\n",
       "      <td>5.1</td>\n",
       "      <td>3.5</td>\n",
       "      <td>1.4</td>\n",
       "      <td>0.2</td>\n",
       "      <td>Iris-setosa</td>\n",
       "    </tr>\n",
       "    <tr>\n",
       "      <th>1</th>\n",
       "      <td>4.9</td>\n",
       "      <td>3.0</td>\n",
       "      <td>1.4</td>\n",
       "      <td>0.2</td>\n",
       "      <td>Iris-setosa</td>\n",
       "    </tr>\n",
       "    <tr>\n",
       "      <th>2</th>\n",
       "      <td>4.7</td>\n",
       "      <td>3.2</td>\n",
       "      <td>1.3</td>\n",
       "      <td>0.2</td>\n",
       "      <td>Iris-setosa</td>\n",
       "    </tr>\n",
       "    <tr>\n",
       "      <th>3</th>\n",
       "      <td>4.6</td>\n",
       "      <td>3.1</td>\n",
       "      <td>1.5</td>\n",
       "      <td>0.2</td>\n",
       "      <td>Iris-setosa</td>\n",
       "    </tr>\n",
       "    <tr>\n",
       "      <th>4</th>\n",
       "      <td>5.0</td>\n",
       "      <td>3.6</td>\n",
       "      <td>1.4</td>\n",
       "      <td>0.2</td>\n",
       "      <td>Iris-setosa</td>\n",
       "    </tr>\n",
       "  </tbody>\n",
       "</table>\n",
       "</div>"
      ],
      "text/plain": [
       "   sepal length  sepal width  petal length  petal width        class\n",
       "0           5.1          3.5           1.4          0.2  Iris-setosa\n",
       "1           4.9          3.0           1.4          0.2  Iris-setosa\n",
       "2           4.7          3.2           1.3          0.2  Iris-setosa\n",
       "3           4.6          3.1           1.5          0.2  Iris-setosa\n",
       "4           5.0          3.6           1.4          0.2  Iris-setosa"
      ]
     },
     "execution_count": 534,
     "metadata": {},
     "output_type": "execute_result"
    }
   ],
   "source": [
    "import pandas as pd\n",
    "\n",
    "data = pd.read_csv('dataset/iris.data',sep=',',names=['sepal length','sepal width','petal length','petal width','class'])\n",
    "data.head()"
   ]
  },
  {
   "cell_type": "markdown",
   "metadata": {},
   "source": [
    "Di bagian kode <code>read_csv</code> ada tiga parameter yaitu lokasi dataset, kemudian <code>sep</code> yang berarti adalah separator atau pemisah data, dan <code>names</code> yang berfungsi untuk memberi header pada dataset.\n",
    "\n",
    "#### Normalisasi Data ####\n",
    "Sebelum normalisasi data, kita pisahkan dulu antara atribut dengan class, caranya adalah:"
   ]
  },
  {
   "cell_type": "code",
   "execution_count": 535,
   "metadata": {},
   "outputs": [],
   "source": [
    "# pemisahan dataset di mana X untuk menampung data atribut sedangkan y untuk data class\n",
    "X = data.drop('class',axis=1)\n",
    "y = data['class']"
   ]
  },
  {
   "cell_type": "markdown",
   "metadata": {},
   "source": [
    "Sedangkan untuk normalisai, kita tetap menggunakan MinMax scaler"
   ]
  },
  {
   "cell_type": "code",
   "execution_count": 536,
   "metadata": {},
   "outputs": [],
   "source": [
    "from sklearn.preprocessing import MinMaxScaler\n",
    "scaler = MinMaxScaler()\n",
    "scaler.fit(X)\n",
    "X = scaler.transform(X)\n",
    "\n",
    "y = y.astype('category')\n",
    "y = y.cat.codes"
   ]
  },
  {
   "cell_type": "markdown",
   "metadata": {},
   "source": [
    "Langkah ketiga, kita pisahkan dataset untuk training dan testingnya dengan porsi masing-masing 80% dan 20% dengan cara:"
   ]
  },
  {
   "cell_type": "code",
   "execution_count": 537,
   "metadata": {},
   "outputs": [],
   "source": [
    "from sklearn.model_selection import train_test_split\n",
    "X_train, X_test, y_train, y_test = train_test_split(X, y, shuffle = True, test_size=0.2, random_state = 42) \n",
    "\n"
   ]
  },
  {
   "cell_type": "markdown",
   "metadata": {},
   "source": [
    "#### Data Training ####\n",
    "Langkah keempat adalah data training. Di sklearn, sudah ada class SVM yang dipakai untuk klasifikasi yaitu Support Vector Classification (SVC). Di SVC, sudah ada beberapa parameter kernel yaitu: linear, poly, rbf, dan sigmoid. Kita akan mencoba masing-masing kernel dan melihat performanya terhadap klasifikasi bunga Iris.\n",
    "Pada bagian pertama, kita coba dulu dengan kernel **linear**.  \n",
    "##### Kernel Linear #####"
   ]
  },
  {
   "cell_type": "code",
   "execution_count": 538,
   "metadata": {},
   "outputs": [
    {
     "data": {
      "text/plain": [
       "Pipeline(steps=[('minmaxscaler', MinMaxScaler()),\n",
       "                ('svc', SVC(kernel='linear'))])"
      ]
     },
     "execution_count": 538,
     "metadata": {},
     "output_type": "execute_result"
    }
   ],
   "source": [
    "from sklearn.svm import SVC\n",
    "from sklearn.pipeline import make_pipeline\n",
    "from sklearn.preprocessing import MinMaxScaler, StandardScaler\n",
    "from sklearn.metrics import accuracy_score\n",
    "\n",
    "clf = make_pipeline(MinMaxScaler(), SVC(kernel='linear'))\n",
    "clf.fit(X_train, y_train)"
   ]
  },
  {
   "cell_type": "markdown",
   "metadata": {},
   "source": [
    "#### Data Testing ####\n",
    "Setelah training selesai, saatnya kita memprediksi dan kita ukur performanya dengan metriks"
   ]
  },
  {
   "cell_type": "code",
   "execution_count": 539,
   "metadata": {},
   "outputs": [
    {
     "name": "stdout",
     "output_type": "stream",
     "text": [
      "Akurasi: 1.000\n"
     ]
    }
   ],
   "source": [
    "y_pred = clf.predict(X_test)\n",
    "acc = accuracy_score(y_test, y_pred )\n",
    "\n",
    "print('Akurasi: %.3f' % acc)"
   ]
  },
  {
   "cell_type": "markdown",
   "metadata": {},
   "source": [
    "Dari hasil prediksi dengan kernel linear, kita mendapatkan akurasi prediksi sebesar 0,933. Kita coba lagi dengan kernel **poly**."
   ]
  },
  {
   "cell_type": "code",
   "execution_count": 540,
   "metadata": {},
   "outputs": [
    {
     "name": "stdout",
     "output_type": "stream",
     "text": [
      "Akurasi: 0.967\n"
     ]
    }
   ],
   "source": [
    "clf = make_pipeline(MinMaxScaler(), SVC(kernel='poly'))\n",
    "clf.fit(X_train, y_train)\n",
    "\n",
    "y_pred = clf.predict(X_test)\n",
    "acc = accuracy_score(y_test, y_pred )\n",
    "\n",
    "print('Akurasi: %.3f' % acc)"
   ]
  },
  {
   "cell_type": "markdown",
   "metadata": {},
   "source": [
    "Nah, dengan kernel poly, kita mendapatkan akurasi sebesar 0,900. Sementara ini, hasil akurasi dengan kernel linear lebih bagus dibanding dengan poly. Tapi, bagaimana hasilnya jika menggunakan kernel **RBF**? RBF kepanjangan dari Radial Basis Function. Apa itu RBF? Silakan dibaca di [sini](https://en.wikipedia.org/wiki/Radial_basis_function).  \n",
    "##### Kernel RBF #####"
   ]
  },
  {
   "cell_type": "code",
   "execution_count": 541,
   "metadata": {},
   "outputs": [
    {
     "name": "stdout",
     "output_type": "stream",
     "text": [
      "Akurasi: 1.000\n"
     ]
    }
   ],
   "source": [
    "clf = make_pipeline(MinMaxScaler(), SVC(kernel='rbf'))\n",
    "clf.fit(X_train, y_train)\n",
    "\n",
    "y_pred = clf.predict(X_test)\n",
    "acc = accuracy_score(y_test, y_pred )\n",
    "\n",
    "print('Akurasi: %.3f' % acc)"
   ]
  },
  {
   "cell_type": "markdown",
   "metadata": {},
   "source": [
    "Ternyata, hasil kernel RBF dan Linear untuk dataset bunga Iris memiliki hasil akurasi yang sama. Oke, itu dulu untuk SVM. Kita lanjutkan ke salah satu arsitektur neural network (NN) yaitu Multi-layered perceptron (MLP)."
   ]
  },
  {
   "cell_type": "markdown",
   "metadata": {},
   "source": [
    "### Multi-Layered Perceptron ###\n",
    "\n",
    "MLP merupakan arsitektur yang cukup sederhana dari NN yang terdiri atas input layer, hidden layer, dan output layer. Pembeda MLP dengan perceptron biasa adalah keberadaan hidden layer. Dikatakan sebagai multi-layered karena layer-layer di hidden layer bisa lebih dari satu layer. Di dalam SKLearn, sudah ada class MLPClassifier yang akan kita pakai untuk klasifikasi.  \n",
    "Sebagai langkah awal, kita import dulu classnya"
   ]
  },
  {
   "cell_type": "code",
   "execution_count": 542,
   "metadata": {},
   "outputs": [],
   "source": [
    "from sklearn.neural_network import MLPClassifier\n",
    "\n",
    "clf = MLPClassifier(\n",
    "    hidden_layer_sizes=(100, 100, 100), \n",
    "    max_iter=500,\n",
    "    activation='logistic',\n",
    "    solver='sgd',\n",
    "    learning_rate='constant',\n",
    "    learning_rate_init=0.01\n",
    ")"
   ]
  },
  {
   "cell_type": "markdown",
   "metadata": {},
   "source": [
    "`hidden_layer_sizes=(10, 10, 10)` adalah parameter untuk membuat hidden layer. Di sini kita memakai 3 buah layer di mana layer pertama ada 15 node, layer kedua 12 node, dan layer ketiga sebanyak 10 node.  \n",
    "`max_iter=500` adalah banyaknya epoch atau iterasi yang akan dipakai untuk training.  \n",
    "`activation='sigmoid'` adalah parameter untuk fungsi aktivasi pada tiap nodenya.  \n",
    "`solver='sgd'` adalah parameter untuk optimasi bobot dan bias yang memanfaatkan Stochastic Gradient Descent  \n",
    "`learning_rate=0.01` adalah parameter untuk learning rate. Parameter ini hanya berguna ketika `solver='sgd'`.  \n",
    "\n",
    "Berikutnya adalah training model MLP dan prediksi hasilnya."
   ]
  },
  {
   "cell_type": "code",
   "execution_count": 543,
   "metadata": {},
   "outputs": [
    {
     "name": "stdout",
     "output_type": "stream",
     "text": [
      "Akurasi: 0.300\n"
     ]
    }
   ],
   "source": [
    "clf.fit(X_train, y_train)\n",
    "\n",
    "y_pred = clf.predict(X_test)\n",
    "acc = accuracy_score(y_test, y_pred)\n",
    "\n",
    "print('Akurasi: %.3f' % acc)\n"
   ]
  },
  {
   "cell_type": "markdown",
   "metadata": {},
   "source": [
    "Hasil dari prediksi menunjukkan angka yang kecil sebesar 0,3. Mari kita ubah beberapa parameter dari MLPClassifiernya yaitu di parameter activation dan jumlah node di tiap layer. Setelah itu, kita training ulang."
   ]
  },
  {
   "cell_type": "code",
   "execution_count": 556,
   "metadata": {},
   "outputs": [
    {
     "name": "stdout",
     "output_type": "stream",
     "text": [
      "Akurasi: 0.967\n"
     ]
    }
   ],
   "source": [
    "clf = MLPClassifier(\n",
    "    hidden_layer_sizes=(100, 100, 100), \n",
    "    max_iter=500,\n",
    "    activation='relu',\n",
    "    solver='sgd',\n",
    "    learning_rate='constant',\n",
    "    learning_rate_init=0.01,\n",
    "    random_state=0\n",
    ")\n",
    "\n",
    "clf.fit(X_train, y_train)\n",
    "\n",
    "y_pred = clf.predict(X_test)\n",
    "acc = accuracy_score(y_test, y_pred)\n",
    "\n",
    "print('Akurasi: %.3f' % acc)"
   ]
  },
  {
   "cell_type": "markdown",
   "metadata": {},
   "source": [
    "Ternyata, setelah kita modifikasi model MLP kita, nilai akurasi meningkat cukup drastis dari 0,3 menjadi 0,96. \n",
    "#### Kesimpulan apa yang kalian dapat dari percobaan ini? ####"
   ]
  }
 ],
 "metadata": {
  "kernelspec": {
   "display_name": "Python 3 (ipykernel)",
   "language": "python",
   "name": "python3"
  },
  "language_info": {
   "codemirror_mode": {
    "name": "ipython",
    "version": 3
   },
   "file_extension": ".py",
   "mimetype": "text/x-python",
   "name": "python",
   "nbconvert_exporter": "python",
   "pygments_lexer": "ipython3",
   "version": "3.9.0"
  }
 },
 "nbformat": 4,
 "nbformat_minor": 4
}
