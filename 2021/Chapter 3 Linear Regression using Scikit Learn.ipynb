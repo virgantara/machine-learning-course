{
 "cells": [
  {
   "cell_type": "markdown",
   "metadata": {},
   "source": [
    "**A. Apa itu Scikit-Learn?**  \n",
    "- Open source machine learning untuk python\n",
    "- Mendukung numpy dan scipy\n",
    "- Punya fitur untuk teknik regresi, klasifikasi, model selection, klastering, dan preprocessing  \n",
    "\n",
    "**B. Regresi dengan Scikit-Learn**"
   ]
  },
  {
   "cell_type": "code",
   "execution_count": 85,
   "metadata": {},
   "outputs": [],
   "source": [
    "import pandas as pd\n",
    "import numpy as np\n",
    "import matplotlib.pyplot as plt\n",
    "from sklearn.linear_model import LinearRegression\n",
    "from sklearn.model_selection import train_test_split\n",
    "import sklearn.metrics as metrics\n"
   ]
  },
  {
   "cell_type": "markdown",
   "metadata": {},
   "source": [
    "B1. Membaca dataset dengan library Pandas"
   ]
  },
  {
   "cell_type": "code",
   "execution_count": 112,
   "metadata": {},
   "outputs": [],
   "source": [
    "data = pd.read_csv(\"dataset/data.csv\")\n",
    "# data.columns =(['Size','Bedroom','Price'])\n",
    "X = data.iloc[:, 0].values.reshape(-1,1) #mengambil fitur \n",
    "y = data.iloc[:, 1].values.reshape(-1,1) #mengambil target/class\n"
   ]
  },
  {
   "cell_type": "markdown",
   "metadata": {},
   "source": [
    "B2. Memisahkan dataset training dan testing"
   ]
  },
  {
   "cell_type": "code",
   "execution_count": 113,
   "metadata": {},
   "outputs": [],
   "source": [
    "x_train, x_test,y_train,y_test = train_test_split(X,y,test_size =0.2)"
   ]
  },
  {
   "cell_type": "markdown",
   "metadata": {},
   "source": [
    "Load class LinearRegression untuk melakukan regresi"
   ]
  },
  {
   "cell_type": "code",
   "execution_count": 114,
   "metadata": {},
   "outputs": [
    {
     "data": {
      "text/plain": [
       "LinearRegression()"
      ]
     },
     "execution_count": 114,
     "metadata": {},
     "output_type": "execute_result"
    }
   ],
   "source": [
    "lr = LinearRegression()  # create object for the class\n",
    "lr.fit(x_train, y_train)  # perform linear regression"
   ]
  },
  {
   "cell_type": "markdown",
   "metadata": {},
   "source": [
    "B3. Saatnya prediksi"
   ]
  },
  {
   "cell_type": "code",
   "execution_count": 115,
   "metadata": {},
   "outputs": [],
   "source": [
    "pred_y = lr.predict(x_test)  # make predictions"
   ]
  },
  {
   "cell_type": "markdown",
   "metadata": {},
   "source": [
    "**C. Model evaluation**"
   ]
  },
  {
   "cell_type": "code",
   "execution_count": 117,
   "metadata": {},
   "outputs": [
    {
     "name": "stdout",
     "output_type": "stream",
     "text": [
      "The first five prediction [[62.88104311]\n",
      " [54.04969437]\n",
      " [83.44913574]\n",
      " [73.12607717]\n",
      " [64.62106451]]\n",
      "The real first five labels [[59.35885025]\n",
      " [55.72348926]\n",
      " [83.14274979]\n",
      " [60.72360244]\n",
      " [76.61734128]]\n",
      "Mean Squared Error 0.5430091452274575\n"
     ]
    }
   ],
   "source": [
    "print(\"The first five prediction {}\".format(pred_y[:5]))\n",
    "print(\"The real first five labels {}\".format(y_test[:5]))\n",
    "\n",
    "mse = lr.score(x_test, y_test)\n",
    "print(\"R2 {}\".format(mse))"
   ]
  }
 ],
 "metadata": {
  "kernelspec": {
   "display_name": "Python 3",
   "language": "python",
   "name": "python3"
  },
  "language_info": {
   "codemirror_mode": {
    "name": "ipython",
    "version": 3
   },
   "file_extension": ".py",
   "mimetype": "text/x-python",
   "name": "python",
   "nbconvert_exporter": "python",
   "pygments_lexer": "ipython3",
   "version": "3.7.6"
  }
 },
 "nbformat": 4,
 "nbformat_minor": 4
}
