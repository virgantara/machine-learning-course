{
 "cells": [
  {
   "cell_type": "code",
   "execution_count": 600,
   "metadata": {},
   "outputs": [],
   "source": [
    "import pandas as pd\n",
    "import matplotlib.pyplot as plt\n",
    "import numpy as np\n",
    "from sklearn.model_selection import train_test_split\n",
    "from sklearn import svm\n",
    "from sklearn.metrics import f1_score\n",
    "from numpy import where\n",
    "from sklearn.preprocessing import MinMaxScaler\n",
    "import matplotlib.pyplot as plt\n",
    "from sklearn.metrics import plot_confusion_matrix"
   ]
  },
  {
   "cell_type": "code",
   "execution_count": 601,
   "metadata": {},
   "outputs": [],
   "source": [
    "df = pd.read_csv('dataset/data_kelulusan.csv')"
   ]
  },
  {
   "cell_type": "code",
   "execution_count": 602,
   "metadata": {},
   "outputs": [
    {
     "data": {
      "text/html": [
       "<div>\n",
       "<style scoped>\n",
       "    .dataframe tbody tr th:only-of-type {\n",
       "        vertical-align: middle;\n",
       "    }\n",
       "\n",
       "    .dataframe tbody tr th {\n",
       "        vertical-align: top;\n",
       "    }\n",
       "\n",
       "    .dataframe thead th {\n",
       "        text-align: right;\n",
       "    }\n",
       "</style>\n",
       "<table border=\"1\" class=\"dataframe\">\n",
       "  <thead>\n",
       "    <tr style=\"text-align: right;\">\n",
       "      <th></th>\n",
       "      <th>Tahun</th>\n",
       "      <th>JK</th>\n",
       "      <th>prodi</th>\n",
       "      <th>Usia</th>\n",
       "      <th>IP1</th>\n",
       "      <th>AK1</th>\n",
       "      <th>IP2</th>\n",
       "      <th>AK2</th>\n",
       "      <th>IP3</th>\n",
       "      <th>AK3</th>\n",
       "      <th>IP4</th>\n",
       "      <th>AK4</th>\n",
       "      <th>IP5</th>\n",
       "      <th>AK5</th>\n",
       "      <th>IP6</th>\n",
       "      <th>AK6</th>\n",
       "      <th>Tepat</th>\n",
       "    </tr>\n",
       "  </thead>\n",
       "  <tbody>\n",
       "    <tr>\n",
       "      <th>0</th>\n",
       "      <td>2017</td>\n",
       "      <td>L</td>\n",
       "      <td>PAI</td>\n",
       "      <td>21</td>\n",
       "      <td>3.43</td>\n",
       "      <td>215.0</td>\n",
       "      <td>3.50</td>\n",
       "      <td>207.0</td>\n",
       "      <td>3.52</td>\n",
       "      <td>110.0</td>\n",
       "      <td>3.08</td>\n",
       "      <td>162.0</td>\n",
       "      <td>3.64</td>\n",
       "      <td>155.0</td>\n",
       "      <td>3.58</td>\n",
       "      <td>255.0</td>\n",
       "      <td>1</td>\n",
       "    </tr>\n",
       "    <tr>\n",
       "      <th>1</th>\n",
       "      <td>2017</td>\n",
       "      <td>L</td>\n",
       "      <td>PAI</td>\n",
       "      <td>23</td>\n",
       "      <td>3.45</td>\n",
       "      <td>170.0</td>\n",
       "      <td>3.65</td>\n",
       "      <td>210.0</td>\n",
       "      <td>3.63</td>\n",
       "      <td>90.0</td>\n",
       "      <td>3.54</td>\n",
       "      <td>171.0</td>\n",
       "      <td>3.75</td>\n",
       "      <td>210.0</td>\n",
       "      <td>3.77</td>\n",
       "      <td>233.0</td>\n",
       "      <td>1</td>\n",
       "    </tr>\n",
       "    <tr>\n",
       "      <th>2</th>\n",
       "      <td>2017</td>\n",
       "      <td>L</td>\n",
       "      <td>PAI</td>\n",
       "      <td>23</td>\n",
       "      <td>3.45</td>\n",
       "      <td>165.0</td>\n",
       "      <td>3.53</td>\n",
       "      <td>220.0</td>\n",
       "      <td>3.42</td>\n",
       "      <td>70.0</td>\n",
       "      <td>2.19</td>\n",
       "      <td>170.0</td>\n",
       "      <td>3.55</td>\n",
       "      <td>121.0</td>\n",
       "      <td>3.17</td>\n",
       "      <td>230.0</td>\n",
       "      <td>1</td>\n",
       "    </tr>\n",
       "    <tr>\n",
       "      <th>3</th>\n",
       "      <td>2017</td>\n",
       "      <td>L</td>\n",
       "      <td>PAI</td>\n",
       "      <td>23</td>\n",
       "      <td>3.18</td>\n",
       "      <td>135.0</td>\n",
       "      <td>3.40</td>\n",
       "      <td>210.0</td>\n",
       "      <td>3.38</td>\n",
       "      <td>90.0</td>\n",
       "      <td>2.27</td>\n",
       "      <td>163.0</td>\n",
       "      <td>3.32</td>\n",
       "      <td>155.0</td>\n",
       "      <td>3.33</td>\n",
       "      <td>180.0</td>\n",
       "      <td>1</td>\n",
       "    </tr>\n",
       "    <tr>\n",
       "      <th>4</th>\n",
       "      <td>2017</td>\n",
       "      <td>L</td>\n",
       "      <td>PAI</td>\n",
       "      <td>24</td>\n",
       "      <td>3.30</td>\n",
       "      <td>151.0</td>\n",
       "      <td>3.43</td>\n",
       "      <td>206.0</td>\n",
       "      <td>3.50</td>\n",
       "      <td>90.0</td>\n",
       "      <td>2.83</td>\n",
       "      <td>164.0</td>\n",
       "      <td>3.52</td>\n",
       "      <td>196.0</td>\n",
       "      <td>3.58</td>\n",
       "      <td>NaN</td>\n",
       "      <td>1</td>\n",
       "    </tr>\n",
       "  </tbody>\n",
       "</table>\n",
       "</div>"
      ],
      "text/plain": [
       "   Tahun JK prodi  Usia   IP1    AK1   IP2    AK2   IP3    AK3   IP4    AK4  \\\n",
       "0   2017  L   PAI    21  3.43  215.0  3.50  207.0  3.52  110.0  3.08  162.0   \n",
       "1   2017  L   PAI    23  3.45  170.0  3.65  210.0  3.63   90.0  3.54  171.0   \n",
       "2   2017  L   PAI    23  3.45  165.0  3.53  220.0  3.42   70.0  2.19  170.0   \n",
       "3   2017  L   PAI    23  3.18  135.0  3.40  210.0  3.38   90.0  2.27  163.0   \n",
       "4   2017  L   PAI    24  3.30  151.0  3.43  206.0  3.50   90.0  2.83  164.0   \n",
       "\n",
       "    IP5    AK5   IP6    AK6  Tepat  \n",
       "0  3.64  155.0  3.58  255.0      1  \n",
       "1  3.75  210.0  3.77  233.0      1  \n",
       "2  3.55  121.0  3.17  230.0      1  \n",
       "3  3.32  155.0  3.33  180.0      1  \n",
       "4  3.52  196.0  3.58    NaN      1  "
      ]
     },
     "execution_count": 602,
     "metadata": {},
     "output_type": "execute_result"
    }
   ],
   "source": [
    "df.head()"
   ]
  },
  {
   "cell_type": "code",
   "execution_count": 603,
   "metadata": {},
   "outputs": [],
   "source": [
    "data_isi = df.fillna(method=\"ffill\")"
   ]
  },
  {
   "cell_type": "code",
   "execution_count": 604,
   "metadata": {},
   "outputs": [],
   "source": [
    "y = data_isi['Tepat']\n",
    "X = data_isi.drop(df.columns[0:3], axis=1)\n",
    "\n",
    "\n",
    "\n",
    "scaler = MinMaxScaler()\n",
    "scaler.fit(X)\n",
    "X = scaler.transform(X)"
   ]
  },
  {
   "cell_type": "code",
   "execution_count": 605,
   "metadata": {},
   "outputs": [
    {
     "data": {
      "image/png": "[encoded data removed]",
      "text/plain": [
       "<Figure size 432x288 with 1 Axes>"
      ]
     },
     "metadata": {
      "needs_background": "light"
     },
     "output_type": "display_data"
    }
   ],
   "source": [
    "labels, counts = np.unique(y, return_counts=True)\n",
    "plt.bar(labels, counts, align='center')\n",
    "plt.gca().set_xticks(labels)\n",
    "plt.show()"
   ]
  },
  {
   "cell_type": "code",
   "execution_count": 606,
   "metadata": {},
   "outputs": [],
   "source": [
    "X_train, X_test, y_train, y_test = train_test_split(X, y, shuffle = True, test_size=0.5, random_state=2, stratify=y) "
   ]
  },
  {
   "cell_type": "code",
   "execution_count": 607,
   "metadata": {},
   "outputs": [
    {
     "data": {
      "text/plain": [
       "OneClassSVM(kernel='linear', nu=0.1)"
      ]
     },
     "execution_count": 607,
     "metadata": {},
     "output_type": "execute_result"
    }
   ],
   "source": [
    "model = svm.OneClassSVM(kernel='linear', gamma='scale', nu=0.1)\n",
    "X_train = X_train[y_train==1]\n",
    "model.fit(X_train)"
   ]
  },
  {
   "cell_type": "code",
   "execution_count": 608,
   "metadata": {},
   "outputs": [],
   "source": [
    "y_pred = model.predict(X_test)\n",
    "y_test[y_test==1] = 1\n",
    "y_test[y_test==0] = -1\n",
    "# y_pred\n"
   ]
  },
  {
   "cell_type": "code",
   "execution_count": 609,
   "metadata": {},
   "outputs": [
    {
     "name": "stdout",
     "output_type": "stream",
     "text": [
      "F1 Score: 0.634\n"
     ]
    }
   ],
   "source": [
    "score = f1_score(y_test, y_pred, pos_label=-1)\n",
    "print('F1 Score: %.3f' % score)"
   ]
  },
  {
   "cell_type": "code",
   "execution_count": 610,
   "metadata": {},
   "outputs": [
    {
     "name": "stdout",
     "output_type": "stream",
     "text": [
      "              precision    recall  f1-score   support\n",
      "\n",
      "          -1       0.47      0.97      0.63        67\n",
      "           1       1.00      0.86      0.92       535\n",
      "\n",
      "    accuracy                           0.88       602\n",
      "   macro avg       0.73      0.92      0.78       602\n",
      "weighted avg       0.94      0.88      0.89       602\n",
      "\n"
     ]
    }
   ],
   "source": [
    "from sklearn.metrics import classification_report\n",
    "print(classification_report(y_test, y_pred))"
   ]
  }
 ],
 "metadata": {
  "kernelspec": {
   "display_name": "Python 3",
   "language": "python",
   "name": "python3"
  },
  "language_info": {
   "codemirror_mode": {
    "name": "ipython",
    "version": 3
   },
   "file_extension": ".py",
   "mimetype": "text/x-python",
   "name": "python",
   "nbconvert_exporter": "python",
   "pygments_lexer": "ipython3",
   "version": "3.8.10"
  }
 },
 "nbformat": 4,
 "nbformat_minor": 5
}
