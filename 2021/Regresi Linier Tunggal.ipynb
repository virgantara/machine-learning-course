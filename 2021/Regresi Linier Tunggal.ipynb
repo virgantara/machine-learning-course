{
 "cells": [
  {
   "cell_type": "code",
   "execution_count": 56,
   "metadata": {
    "_cell_guid": "c9183089-e16a-43a9-93a0-563ec7bcdaa5",
    "_uuid": "b24de12df5a0030f24fd12a16a91af192707047e",
    "execution": {
     "iopub.execute_input": "2021-06-15T23:34:00.881228Z",
     "iopub.status.busy": "2021-06-15T23:34:00.880687Z",
     "iopub.status.idle": "2021-06-15T23:34:00.919702Z",
     "shell.execute_reply": "2021-06-15T23:34:00.918050Z",
     "shell.execute_reply.started": "2021-06-15T23:34:00.881181Z"
    }
   },
   "outputs": [],
   "source": [
    "# This Python 3 environment comes with many helpful analytics libraries installed\n",
    "# It is defined by the kaggle/python docker image: https://github.com/kaggle/docker-python\n",
    "# For example, here's several helpful packages to load in \n",
    "\n",
    "import numpy as np # linear algebra\n",
    "import pandas as pd # data processing, CSV file I/O (e.g. pd.read_csv)\n",
    "\n",
    "# Input data files are available in the \"../input/\" directory.\n",
    "# For example, running this (by clicking run or pressing Shift+Enter) will list the files in the input directory\n",
    "\n",
    "from subprocess import check_output\n",
    "# print(check_output([\"ls\", \"../input\"]).decode(\"utf8\"))\n",
    "\n",
    "# Any results you write to the current directory are saved as output."
   ]
  },
  {
   "cell_type": "markdown",
   "metadata": {
    "_cell_guid": "5db54414-5d84-4ce0-a483-7077a5d9fcec",
    "_uuid": "b9a8031f5fa5d031fd810ee6c9758d8984871e3c"
   },
   "source": [
    "# Machine Learning #1: Linear Regression in the beginning\n",
    "\n",
    "This tutorial series is for absolute beginners in machine learning algorithms, for those who want to review/practice the fundamentals of machine learning and how to build them from scratch."
   ]
  },
  {
   "cell_type": "markdown",
   "metadata": {
    "_cell_guid": "5db9c7a4-5af8-41f0-aaf5-e73069406e07",
    "_uuid": "7010c6fdaa24e3b91809934850e6cfa62ba6c6b0"
   },
   "source": [
    "## What is Machine Learning?\n",
    "\n",
    "\"Machine Learning is the science (and art) of programming computers so they can <i>learn from data </i>\"\n",
    "- Aurelion Geron, 2017"
   ]
  },
  {
   "cell_type": "markdown",
   "metadata": {
    "_cell_guid": "15c80bb7-1bfb-425d-b5cc-8d17575bd567",
    "_uuid": "4c364268b66a553733d2c3387f958b4b37e44634"
   },
   "source": [
    "## Type of Machine Learning Systems\n",
    "\n",
    "<br>reference 1: [Hands-On Machine Learning with Scikit-Learn and Tensorflow](http://shop.oreilly.com/product/0636920052289.do)\n",
    "\n",
    "reference 2: [Machine Learning, Stanford University by Andrew Ng](https://www.coursera.org/learn/machine-learning)\n",
    "\n",
    "<br>There are a lot of different types of Machine Learning Systems and usually it is best to classify them in broad categories based on:\n",
    "\n",
    "    * Whether or not they are trained with human supervision (supervised, unsupervised, \n",
    "        semisupervised, and Reinforcement Learning  \n",
    "    \n",
    "    * Whether or not they can learn incrementally on the fly (online versus batch learning)\n",
    "    \n",
    "    * Whether they work by simply comparing new data points to know data points or instead \n",
    "        detect patterns in the training data and build a predictive model, much like scientists\n",
    "        do (instance-based versus model-based learning)\n",
    "\n",
    "<i> Let's look at the very <b> first criteria </b> a bit more closely... </i>"
   ]
  },
  {
   "cell_type": "markdown",
   "metadata": {
    "_cell_guid": "257224f0-e566-4083-9d07-5f1802079ac8",
    "_uuid": "6060c40b0e6d2ea4ae838c020c1336f60ba78e37"
   },
   "source": [
    "## Supervised/Unsupervised Learning\n",
    "\n",
    "Machine Learning systems are usually classified according to the amount and type of supervision they\n",
    "get during training. There are four major categories: supervised learning, unsupervised learning,\n",
    "semisupervised learning, and Reinforcement Learning.\n",
    "\n",
    "<i> Let us tackle <b> Supervised Learning </b> for now <i>\n",
    "\n"
   ]
  },
  {
   "cell_type": "markdown",
   "metadata": {
    "_cell_guid": "4bbf21c5-f467-4bda-ac00-007396f0020c",
    "_uuid": "e66173219bb3a74515a11796d21b78239c5974dc"
   },
   "source": [
    "## Supervised Learning\n",
    "\n",
    "In supervised learning, the training data you feed to the algorithm includes the desired solutions,\n",
    "called <i>labels</i>\n",
    "\n",
    "* A typical supervised learning task is <b>classification</b>. The spam filter is a good example of this: \n",
    "it is trained with many examples emails along with their <i>class</i> (spam or ham), and it must learn how to\n",
    "classify new emails.\n",
    "* Another typical task is to predict a <i>target</i> numeric value, such as the price of a car, given a set\n",
    "of <i>features</i> (mileage, age, brand, etc.) called <i>predictors</i>. This sort of task is called <b>regression</b>.\n",
    "To train the system, you need to give it many examples of cars, including both their predictors and\n",
    "their labels (i.e., their prices)\n",
    "   \n",
    "<i>Let's try <b>Regression!</b><i>"
   ]
  },
  {
   "cell_type": "markdown",
   "metadata": {
    "_cell_guid": "dd59e88a-c8e8-4ac2-a3d3-859774c500b3",
    "_uuid": "f8341fd36477bc7f756a3df108bcfdf68d5616b8"
   },
   "source": [
    "## Linear Regression: Univariate\n",
    "\n",
    "Let's start with a very simple task of <i>linear regression</i> using a sample dataset called Portland \n",
    "Housing Prices, wherein we are given some <i>features</i> of a house (i.e. area, no. of rooms, etc) and\n",
    "predict the <i>target</i> price.\n",
    "\n",
    "To make things much simpler. Let us use only one <i>feature</i> or in this case one variable, also known as \n",
    "<b>univariate linear regression</b>. That is we are only gonna use the 'Area' of a given house to train a\n",
    "linear model\n",
    "\n",
    "<i>Let's <b>get</b> the data and <b>examine</b> it!</i>"
   ]
  },
  {
   "cell_type": "code",
   "execution_count": 57,
   "metadata": {
    "_cell_guid": "43522d3c-0bd3-4047-ac96-749cf2dafdb5",
    "_uuid": "faf52f3aedf2409551f5d28e1fb730a811cb9b92",
    "execution": {
     "iopub.execute_input": "2021-06-15T23:34:00.922309Z",
     "iopub.status.busy": "2021-06-15T23:34:00.921892Z",
     "iopub.status.idle": "2021-06-15T23:34:00.927889Z",
     "shell.execute_reply": "2021-06-15T23:34:00.926610Z",
     "shell.execute_reply.started": "2021-06-15T23:34:00.922233Z"
    }
   },
   "outputs": [
    {
     "data": {
      "text/html": [
       "<div>\n",
       "<style scoped>\n",
       "    .dataframe tbody tr th:only-of-type {\n",
       "        vertical-align: middle;\n",
       "    }\n",
       "\n",
       "    .dataframe tbody tr th {\n",
       "        vertical-align: top;\n",
       "    }\n",
       "\n",
       "    .dataframe thead th {\n",
       "        text-align: right;\n",
       "    }\n",
       "</style>\n",
       "<table border=\"1\" class=\"dataframe\">\n",
       "  <thead>\n",
       "    <tr style=\"text-align: right;\">\n",
       "      <th></th>\n",
       "      <th>2104</th>\n",
       "      <th>3</th>\n",
       "      <th>399900</th>\n",
       "    </tr>\n",
       "  </thead>\n",
       "  <tbody>\n",
       "    <tr>\n",
       "      <th>0</th>\n",
       "      <td>1600</td>\n",
       "      <td>3</td>\n",
       "      <td>329900</td>\n",
       "    </tr>\n",
       "    <tr>\n",
       "      <th>1</th>\n",
       "      <td>2400</td>\n",
       "      <td>3</td>\n",
       "      <td>369000</td>\n",
       "    </tr>\n",
       "    <tr>\n",
       "      <th>2</th>\n",
       "      <td>1416</td>\n",
       "      <td>2</td>\n",
       "      <td>232000</td>\n",
       "    </tr>\n",
       "    <tr>\n",
       "      <th>3</th>\n",
       "      <td>3000</td>\n",
       "      <td>4</td>\n",
       "      <td>539900</td>\n",
       "    </tr>\n",
       "    <tr>\n",
       "      <th>4</th>\n",
       "      <td>1985</td>\n",
       "      <td>4</td>\n",
       "      <td>299900</td>\n",
       "    </tr>\n",
       "  </tbody>\n",
       "</table>\n",
       "</div>"
      ],
      "text/plain": [
       "   2104  3  399900\n",
       "0  1600  3  329900\n",
       "1  2400  3  369000\n",
       "2  1416  2  232000\n",
       "3  3000  4  539900\n",
       "4  1985  4  299900"
      ]
     },
     "execution_count": 57,
     "metadata": {},
     "output_type": "execute_result"
    }
   ],
   "source": [
    "import numpy as np  \n",
    "import pandas as pd \n",
    "\n",
    "data = pd.read_csv('dataset/oregon.csv')\n",
    "data.head()"
   ]
  },
  {
   "cell_type": "markdown",
   "metadata": {
    "_cell_guid": "d315e841-39c0-4f5b-8765-9958dd4b3d30",
    "_uuid": "d5a15944a4c94938d4f82d70f367dba36579512e"
   },
   "source": [
    "The data itself does not contain feature names or labels, let's set that up first.\n",
    "According to the source the first column is the <b>size</b> of the house in sq.ft. followed by \n",
    "the no. of <b>bedrooms</b> and lastly the <b>price</b>."
   ]
  },
  {
   "cell_type": "code",
   "execution_count": 58,
   "metadata": {
    "_cell_guid": "704267c8-4440-4b8e-8cfa-563937f24652",
    "_uuid": "2740533589833c126f08cee08add4141ee0cdff3",
    "execution": {
     "iopub.execute_input": "2021-06-15T23:34:00.998480Z",
     "iopub.status.busy": "2021-06-15T23:34:00.998063Z",
     "iopub.status.idle": "2021-06-15T23:34:01.014063Z",
     "shell.execute_reply": "2021-06-15T23:34:01.013401Z",
     "shell.execute_reply.started": "2021-06-15T23:34:00.998419Z"
    }
   },
   "outputs": [
    {
     "data": {
      "text/html": [
       "<div>\n",
       "<style scoped>\n",
       "    .dataframe tbody tr th:only-of-type {\n",
       "        vertical-align: middle;\n",
       "    }\n",
       "\n",
       "    .dataframe tbody tr th {\n",
       "        vertical-align: top;\n",
       "    }\n",
       "\n",
       "    .dataframe thead th {\n",
       "        text-align: right;\n",
       "    }\n",
       "</style>\n",
       "<table border=\"1\" class=\"dataframe\">\n",
       "  <thead>\n",
       "    <tr style=\"text-align: right;\">\n",
       "      <th></th>\n",
       "      <th>luas</th>\n",
       "      <th>jmltt</th>\n",
       "      <th>harga</th>\n",
       "    </tr>\n",
       "  </thead>\n",
       "  <tbody>\n",
       "    <tr>\n",
       "      <th>0</th>\n",
       "      <td>1600</td>\n",
       "      <td>3</td>\n",
       "      <td>329900</td>\n",
       "    </tr>\n",
       "    <tr>\n",
       "      <th>1</th>\n",
       "      <td>2400</td>\n",
       "      <td>3</td>\n",
       "      <td>369000</td>\n",
       "    </tr>\n",
       "    <tr>\n",
       "      <th>2</th>\n",
       "      <td>1416</td>\n",
       "      <td>2</td>\n",
       "      <td>232000</td>\n",
       "    </tr>\n",
       "    <tr>\n",
       "      <th>3</th>\n",
       "      <td>3000</td>\n",
       "      <td>4</td>\n",
       "      <td>539900</td>\n",
       "    </tr>\n",
       "    <tr>\n",
       "      <th>4</th>\n",
       "      <td>1985</td>\n",
       "      <td>4</td>\n",
       "      <td>299900</td>\n",
       "    </tr>\n",
       "  </tbody>\n",
       "</table>\n",
       "</div>"
      ],
      "text/plain": [
       "   luas  jmltt   harga\n",
       "0  1600      3  329900\n",
       "1  2400      3  369000\n",
       "2  1416      2  232000\n",
       "3  3000      4  539900\n",
       "4  1985      4  299900"
      ]
     },
     "execution_count": 58,
     "metadata": {},
     "output_type": "execute_result"
    }
   ],
   "source": [
    "data.columns =(['luas','jmltt','harga'])\n",
    "data.head()"
   ]
  },
  {
   "cell_type": "markdown",
   "metadata": {
    "_cell_guid": "aee4d125-e2b4-49fe-a52a-d1a9025729ba",
    "_uuid": "aa2d2367c5514ec1858808686d94e89e031dba0f"
   },
   "source": [
    "Let us remove the 'Bedroom' feature since we are doing <b>univariate linear regression</b>"
   ]
  },
  {
   "cell_type": "code",
   "execution_count": 59,
   "metadata": {
    "_cell_guid": "2ddd0b1c-940e-40a4-81b8-9f6c3082197c",
    "_uuid": "98997527cf4938bb758e6b859f77f560f6518e51",
    "execution": {
     "iopub.execute_input": "2021-06-15T23:34:01.015961Z",
     "iopub.status.busy": "2021-06-15T23:34:01.015513Z",
     "iopub.status.idle": "2021-06-15T23:34:01.043827Z",
     "shell.execute_reply": "2021-06-15T23:34:01.042395Z",
     "shell.execute_reply.started": "2021-06-15T23:34:01.015906Z"
    },
    "scrolled": true
   },
   "outputs": [
    {
     "data": {
      "text/html": [
       "<div>\n",
       "<style scoped>\n",
       "    .dataframe tbody tr th:only-of-type {\n",
       "        vertical-align: middle;\n",
       "    }\n",
       "\n",
       "    .dataframe tbody tr th {\n",
       "        vertical-align: top;\n",
       "    }\n",
       "\n",
       "    .dataframe thead th {\n",
       "        text-align: right;\n",
       "    }\n",
       "</style>\n",
       "<table border=\"1\" class=\"dataframe\">\n",
       "  <thead>\n",
       "    <tr style=\"text-align: right;\">\n",
       "      <th></th>\n",
       "      <th>luas</th>\n",
       "      <th>harga</th>\n",
       "    </tr>\n",
       "  </thead>\n",
       "  <tbody>\n",
       "    <tr>\n",
       "      <th>0</th>\n",
       "      <td>1600</td>\n",
       "      <td>329900</td>\n",
       "    </tr>\n",
       "    <tr>\n",
       "      <th>1</th>\n",
       "      <td>2400</td>\n",
       "      <td>369000</td>\n",
       "    </tr>\n",
       "    <tr>\n",
       "      <th>2</th>\n",
       "      <td>1416</td>\n",
       "      <td>232000</td>\n",
       "    </tr>\n",
       "    <tr>\n",
       "      <th>3</th>\n",
       "      <td>3000</td>\n",
       "      <td>539900</td>\n",
       "    </tr>\n",
       "    <tr>\n",
       "      <th>4</th>\n",
       "      <td>1985</td>\n",
       "      <td>299900</td>\n",
       "    </tr>\n",
       "  </tbody>\n",
       "</table>\n",
       "</div>"
      ],
      "text/plain": [
       "   luas   harga\n",
       "0  1600  329900\n",
       "1  2400  369000\n",
       "2  1416  232000\n",
       "3  3000  539900\n",
       "4  1985  299900"
      ]
     },
     "execution_count": 59,
     "metadata": {},
     "output_type": "execute_result"
    }
   ],
   "source": [
    "data.drop(['jmltt'], axis=1, inplace=True)\n",
    "data.head()"
   ]
  },
  {
   "cell_type": "code",
   "execution_count": 60,
   "metadata": {
    "_cell_guid": "05101f34-268f-4b93-95d8-f10a32fa23ad",
    "_uuid": "7a53b9e4c11eb48110079a05b8cbc814a013674b",
    "execution": {
     "iopub.execute_input": "2021-06-15T23:34:01.046414Z",
     "iopub.status.busy": "2021-06-15T23:34:01.045748Z",
     "iopub.status.idle": "2021-06-15T23:34:01.055162Z",
     "shell.execute_reply": "2021-06-15T23:34:01.053508Z",
     "shell.execute_reply.started": "2021-06-15T23:34:01.046338Z"
    }
   },
   "outputs": [],
   "source": [
    "#data = data.sample(frac=1)\n",
    "#data.head()"
   ]
  },
  {
   "cell_type": "markdown",
   "metadata": {
    "_cell_guid": "7a81626e-7097-4529-871c-2dcad4a24b21",
    "_uuid": "166bbec8576093fdcdc9fe721dbd22a6beaf2ed8"
   },
   "source": [
    "Now that looks much <b>simpler</b>!\n",
    "Let's <b>plot</b> our data and draw some <b>insights</b> of how a <b>linear model</b> could fit."
   ]
  },
  {
   "cell_type": "code",
   "execution_count": 61,
   "metadata": {
    "_cell_guid": "1ce28d5c-2c5d-496b-a022-22dde156123c",
    "_uuid": "3dc6dafde52ddee1f68e5d1381d12fdfb30fc48c",
    "execution": {
     "iopub.execute_input": "2021-06-15T23:34:01.057100Z",
     "iopub.status.busy": "2021-06-15T23:34:01.056712Z",
     "iopub.status.idle": "2021-06-15T23:34:01.083246Z",
     "shell.execute_reply": "2021-06-15T23:34:01.081825Z",
     "shell.execute_reply.started": "2021-06-15T23:34:01.057006Z"
    }
   },
   "outputs": [],
   "source": [
    "# necessary dependencies for plotting\n",
    "import matplotlib.pyplot as plt #python library for plot and graphs\n",
    "%matplotlib inline"
   ]
  },
  {
   "cell_type": "code",
   "execution_count": 62,
   "metadata": {
    "_cell_guid": "476c8d3a-4507-4db5-8ae2-0cd4be9ee149",
    "_uuid": "5c63b9a292e630b1246b0b5c6be8fac2bd348b4c",
    "execution": {
     "iopub.execute_input": "2021-06-15T23:34:01.085536Z",
     "iopub.status.busy": "2021-06-15T23:34:01.085134Z",
     "iopub.status.idle": "2021-06-15T23:34:01.309598Z",
     "shell.execute_reply": "2021-06-15T23:34:01.308508Z",
     "shell.execute_reply.started": "2021-06-15T23:34:01.085471Z"
    }
   },
   "outputs": [
    {
     "data": {
      "image/png": "[encoded data removed]",
      "text/plain": [
       "<Figure size 432x288 with 1 Axes>"
      ]
     },
     "metadata": {
      "needs_background": "light"
     },
     "output_type": "display_data"
    },
    {
     "data": {
      "text/plain": [
       "<Figure size 1440x1440 with 0 Axes>"
      ]
     },
     "metadata": {},
     "output_type": "display_data"
    }
   ],
   "source": [
    "# necessary dependencies for plotting\n",
    "import matplotlib.pyplot as plt #python library for plot and graphs\n",
    "%matplotlib inline\n",
    "\n",
    "plt.plot(data['luas'], data['harga'], 'r.')\n",
    "plt.figure(figsize=(20,20))\n",
    "plt.show()"
   ]
  },
  {
   "cell_type": "markdown",
   "metadata": {
    "_cell_guid": "971850ed-f604-4d1f-a1a9-6fdc48a1aa8d",
    "_uuid": "ad309122bf197fd7d0cb8577ebde45ce1de3372a"
   },
   "source": [
    "From the plot results we could see that there is a <b>high correlation</b> between Housing <b>Area</b>\n",
    "and Housing <b>Price</b> (obviously) and therefore we could use a <b>line</b> (linear model) to fit this data."
   ]
  },
  {
   "cell_type": "markdown",
   "metadata": {},
   "source": [
    "Test the correlation of data with data.corr(). corr(X,Y) = cov(X,Y)/pXpY = E[(X-uX)(Y-uY)]/pXpY"
   ]
  },
  {
   "cell_type": "code",
   "execution_count": 63,
   "metadata": {
    "_cell_guid": "1dfb1102-5a4b-4404-820c-e8872993d707",
    "_uuid": "31fe90ac10ad38a2f985c7e21fab5e3877455119",
    "execution": {
     "iopub.execute_input": "2021-06-15T23:34:01.312213Z",
     "iopub.status.busy": "2021-06-15T23:34:01.311493Z",
     "iopub.status.idle": "2021-06-15T23:34:01.336277Z",
     "shell.execute_reply": "2021-06-15T23:34:01.334162Z",
     "shell.execute_reply.started": "2021-06-15T23:34:01.312145Z"
    }
   },
   "outputs": [
    {
     "data": {
      "text/html": [
       "<div>\n",
       "<style scoped>\n",
       "    .dataframe tbody tr th:only-of-type {\n",
       "        vertical-align: middle;\n",
       "    }\n",
       "\n",
       "    .dataframe tbody tr th {\n",
       "        vertical-align: top;\n",
       "    }\n",
       "\n",
       "    .dataframe thead th {\n",
       "        text-align: right;\n",
       "    }\n",
       "</style>\n",
       "<table border=\"1\" class=\"dataframe\">\n",
       "  <thead>\n",
       "    <tr style=\"text-align: right;\">\n",
       "      <th></th>\n",
       "      <th>luas</th>\n",
       "      <th>harga</th>\n",
       "    </tr>\n",
       "  </thead>\n",
       "  <tbody>\n",
       "    <tr>\n",
       "      <th>luas</th>\n",
       "      <td>1.000000</td>\n",
       "      <td>0.855928</td>\n",
       "    </tr>\n",
       "    <tr>\n",
       "      <th>harga</th>\n",
       "      <td>0.855928</td>\n",
       "      <td>1.000000</td>\n",
       "    </tr>\n",
       "  </tbody>\n",
       "</table>\n",
       "</div>"
      ],
      "text/plain": [
       "           luas     harga\n",
       "luas   1.000000  0.855928\n",
       "harga  0.855928  1.000000"
      ]
     },
     "execution_count": 63,
     "metadata": {},
     "output_type": "execute_result"
    }
   ],
   "source": [
    "# another way to test the correlation\n",
    "data.corr()"
   ]
  },
  {
   "cell_type": "markdown",
   "metadata": {
    "_cell_guid": "9b46a5b1-9cd8-4c87-a1e2-78d9af7aff7f",
    "_uuid": "2ea1d6a39a765c821438db67c53ccf8a3a8f3615"
   },
   "source": [
    "## Linear Model\n",
    "\n",
    "The idea of linear regression is to fit a line to a set of points.\n",
    "So let's use the line function given by:\n",
    "$$f(x) = y = mx + b$$\n",
    "where <b>m</b> is the slope and <b>b</b> is our <b>y</b> intercept, or for a more general form (multiple variables)\n",
    "$$h(x) = \\theta_0 x_0 + \\theta_1 x_1 + \\theta_2 x_2 + ... + \\theta_n x_n$$\n",
    "such that for a single variable where <b>n = 1</b>, \n",
    "$$h(x) = \\theta_0 + \\theta_1 x_1$$\n",
    "$$ when \\space x_0 = 1 $$\n",
    "where theta is our <b>parameters</b> (slope and intercept) and h(x) is our <b>hypothesis</b> or predicted value\n"
   ]
  },
  {
   "cell_type": "code",
   "execution_count": 64,
   "metadata": {
    "_cell_guid": "4b948423-7ee0-4099-92cd-f1ab2afe0360",
    "_uuid": "8b2da7760cc0597b5f43fa7bde66a01fdddbbd72",
    "execution": {
     "iopub.execute_input": "2021-06-15T23:34:01.339584Z",
     "iopub.status.busy": "2021-06-15T23:34:01.339059Z",
     "iopub.status.idle": "2021-06-15T23:34:01.354016Z",
     "shell.execute_reply": "2021-06-15T23:34:01.352949Z",
     "shell.execute_reply.started": "2021-06-15T23:34:01.339501Z"
    }
   },
   "outputs": [
    {
     "name": "stdout",
     "output_type": "stream",
     "text": [
      "(0.01, 5, 2)\n",
      "4\n"
     ]
    }
   ],
   "source": [
    "class LinearModel():\n",
    "    \n",
    "    def __init__(self, features, target):\n",
    "        self.X = features\n",
    "        self.y = target\n",
    "    \n",
    "    def GradDesc(self, parameters, learningRate, cost):\n",
    "        self.a = learningRate\n",
    "        self.c = cost\n",
    "        self.p = parameters\n",
    "        return self.a, self.Cost(self.c), self.p\n",
    "    \n",
    "    def Cost(self,c):\n",
    "        if c =='RMSE':\n",
    "            return self.y\n",
    "        elif c == 'MSE':\n",
    "            return self.X\n",
    "            \n",
    "            \n",
    "X=1\n",
    "y=0\n",
    "a = LinearModel(5,4)\n",
    "print(a.GradDesc(2,0.01,'MSE'))\n",
    "print(a.Cost('RMSE'))"
   ]
  },
  {
   "cell_type": "markdown",
   "metadata": {
    "_cell_guid": "42222ae1-6cbe-49a6-be65-27748e163804",
    "_uuid": "03ef4d2c1872413a14ecef367467a9e60f577f6d"
   },
   "source": [
    "## Matrix Math\n",
    "\n",
    "As it turns, using Matrices and Vectors is actually very convenient in these type of problems\n",
    "(talking about the obvious)\n",
    "To demonstrate that let's have an example:"
   ]
  },
  {
   "cell_type": "code",
   "execution_count": 65,
   "metadata": {
    "_cell_guid": "775a9d26-7f0f-47f2-a337-155d07b636ab",
    "_uuid": "a5bd5fe7104f4de420c5d6b8a5bd37d844a47cd8",
    "execution": {
     "iopub.execute_input": "2021-06-15T23:34:01.356589Z",
     "iopub.status.busy": "2021-06-15T23:34:01.355916Z",
     "iopub.status.idle": "2021-06-15T23:34:01.369052Z",
     "shell.execute_reply": "2021-06-15T23:34:01.367889Z",
     "shell.execute_reply.started": "2021-06-15T23:34:01.356524Z"
    }
   },
   "outputs": [
    {
     "name": "stdout",
     "output_type": "stream",
     "text": [
      "A =\n",
      "[[1 2]\n",
      " [1 3]\n",
      " [1 4]] \n",
      "size = (3, 2)\n",
      "\n",
      "B =\n",
      "[[2]\n",
      " [3]] \n",
      "size = (2, 1)\n"
     ]
    }
   ],
   "source": [
    "# given a matrix A (3x2) and a matrix B (1x2)\n",
    "A = np.array([[1,2],\n",
    "              [1,3],\n",
    "              [1,4]])\n",
    "B = np.array([[2],[3]])\n",
    "\n",
    "print('A =')\n",
    "print(A,'\\nsize =',A.shape)\n",
    "print('\\nB =')\n",
    "print(B,'\\nsize =',B.shape)"
   ]
  },
  {
   "cell_type": "markdown",
   "metadata": {
    "_cell_guid": "f34bc186-4c4f-420c-a29e-ac33562025c6",
    "_uuid": "92722148ab1fd4184fe01ab29fed5fcfdc75ec9e"
   },
   "source": [
    "Suppose A is our feature matrix <b><i>X</i></b> and B as our parameter matrix <b><i>theta</i></b>, that is,\n",
    "$$X = [\\ 1\\ 2\\ ] \\ \\ \\ \\theta = [\\ 2\\ 3\\ ]$$ \n",
    "$$[\\ 1\\ 3\\ ] \\ \\ \\ \\ \\ \\ \\ \\ \\ \\ \\ \\ $$\n",
    "$$[\\ 1\\ 4\\ ] \\ \\ \\ \\ \\ \\ \\ \\ \\ \\ \\ \\ $$\n",
    "Remember that we have our linear model\n",
    "$$h(x) = \\theta_0 x_0 + \\theta_1 x_1$$\n",
    "We know that\n",
    "$$X_0 = [\\ 1\\ ] \\ \\ \\ X_1 = [\\ 2\\ ] \\ \\ \\ \\theta^T = [\\ 2\\ ] $$ \n",
    "$$\\ \\ \\ \\ \\ \\ \\ \\ \\ [\\ 1\\ ]\\ \\ \\ \\ \\ \\ \\ \\ \\ \\ \\ \\ [\\ 3\\ ]\\ \\ \\ \\ \\ \\ \\ \\ \\ \\ \\ \\ \\ [\\ 3\\ ]$$\n",
    "$$[\\ 1\\ ] \\ \\ \\ \\ \\ \\ \\ \\ \\ \\ \\ \\ [\\ 4\\ ]\\ \\ \\ \\ \\ \\ \\ \\ \\ \\ \\ $$\n",
    "then we can actually use matrix dot product to do the multiplication and addition at the same time\n",
    "(and faster)\n",
    "$$H=[\\ \\theta_0 X_0^0+\\theta_1 X_1^0\\ ]=[\\ \\theta_0+\\theta_1X_1^0\\ ]=[\\ 2+3(2)\\ ]=[\\ \\ 8\\ \\ ]\\ \\ \\ \\ \\ \\ \\ \\ $$\n",
    "$$[\\ \\theta_0 X_0^1+\\theta_1 X_1^1\\ ]\\ \\ \\ \\ \\ [\\ \\theta_0+\\theta_1 X_1^1\\ ]\\ \\ \\ \\ \\ [\\ 2+3(3)\\ ]\\ \\ \\ \\ \\ [\\ 11\\ ]$$\n",
    "$$[\\ \\theta_0 X_0^2+\\theta_1 X_1^2\\ ]\\ \\ \\ \\ \\ [\\ \\theta_0+\\theta_1 X_1^2\\ ]\\ \\ \\ \\ \\ [\\ 2+3(4)\\ ]\\ \\ \\ \\ \\ [\\ 14\\ ]$$\n",
    "\n",
    "$$ can\\ be\\ as\\ simple\\ as $$\n",
    "\n",
    "$$ H = X \\ dot \\ \\theta $$\n",
    "<i>Yes, that is the power of <b>Matrices</b>!</i>"
   ]
  },
  {
   "cell_type": "code",
   "execution_count": 66,
   "metadata": {
    "_cell_guid": "b68e3e9e-69cc-49d4-be89-3ff5775bc78c",
    "_uuid": "b0a2dd8a3fc25349c22c31cafa5c0f100d598dc9",
    "execution": {
     "iopub.execute_input": "2021-06-15T23:34:01.371093Z",
     "iopub.status.busy": "2021-06-15T23:34:01.370830Z",
     "iopub.status.idle": "2021-06-15T23:34:01.388013Z",
     "shell.execute_reply": "2021-06-15T23:34:01.386803Z",
     "shell.execute_reply.started": "2021-06-15T23:34:01.371039Z"
    }
   },
   "outputs": [
    {
     "name": "stdout",
     "output_type": "stream",
     "text": [
      "[[ 8]\n",
      " [11]\n",
      " [14]]\n"
     ]
    }
   ],
   "source": [
    "# let's try it\n",
    "H = A.dot(B)\n",
    "print(H)"
   ]
  },
  {
   "cell_type": "markdown",
   "metadata": {
    "_cell_guid": "3c362793-3327-463d-8d8e-642efc1c048e",
    "_uuid": "5e3d9dea7416799cefdf3f60f3812f98fed94bd0"
   },
   "source": [
    "Wow! Worked like a charm ;)"
   ]
  },
  {
   "cell_type": "markdown",
   "metadata": {
    "_cell_guid": "cae8f8b0-ba43-431c-b78e-8e367d3670c2",
    "_uuid": "b128b2a803bc18459d1f2ae409bd015b7883d4c2"
   },
   "source": [
    "## Featuring Scaling & Normalization\n",
    "\n",
    "Let's go back to our data and store it as <b>X</b> (features) and <b>y</b> (target) matrices first\n",
    "also <b>m</b> (number of sample data also called 'training samples')"
   ]
  },
  {
   "cell_type": "code",
   "execution_count": 67,
   "metadata": {
    "_cell_guid": "9445cd7e-1c00-47a2-9575-3281e0513263",
    "_uuid": "aa737f1cf4537038a2905df35ea08a635baf1605",
    "execution": {
     "iopub.execute_input": "2021-06-15T23:34:01.389984Z",
     "iopub.status.busy": "2021-06-15T23:34:01.389470Z",
     "iopub.status.idle": "2021-06-15T23:34:01.406643Z",
     "shell.execute_reply": "2021-06-15T23:34:01.405331Z",
     "shell.execute_reply.started": "2021-06-15T23:34:01.389701Z"
    },
    "scrolled": true
   },
   "outputs": [
    {
     "name": "stdout",
     "output_type": "stream",
     "text": [
      "(46, 1)\n",
      "(46,)\n",
      "46\n"
     ]
    }
   ],
   "source": [
    "X = np.array(data.drop('harga',axis=1))\n",
    "y = np.array(data.harga)\n",
    "m = len(data)\n",
    "\n",
    "print(X.shape)\n",
    "print(y.shape)\n",
    "print(m)"
   ]
  },
  {
   "cell_type": "markdown",
   "metadata": {
    "_cell_guid": "2aa998d1-66e8-462a-a56a-bd8d545a3e85",
    "_uuid": "ee676f02fa65dabd9506b6f951f03e2c40c316f8"
   },
   "source": [
    "Looking at the <b>y</b> variable, it is shaped as a flattened array <i>(47, )</i>\n",
    "Let's reshape it to a matrix of form <i>(47, 1)</i>"
   ]
  },
  {
   "cell_type": "code",
   "execution_count": 68,
   "metadata": {
    "_cell_guid": "06b7dd22-658f-4ff6-a3fd-61ba5350a7e2",
    "_uuid": "5ed358e3f1294b2e5f1aef8bb3aa30a1e564b5ef",
    "execution": {
     "iopub.execute_input": "2021-06-15T23:34:01.409333Z",
     "iopub.status.busy": "2021-06-15T23:34:01.408781Z",
     "iopub.status.idle": "2021-06-15T23:34:01.421850Z",
     "shell.execute_reply": "2021-06-15T23:34:01.420613Z",
     "shell.execute_reply.started": "2021-06-15T23:34:01.409272Z"
    },
    "scrolled": true
   },
   "outputs": [
    {
     "name": "stdout",
     "output_type": "stream",
     "text": [
      "(46, 1)\n"
     ]
    }
   ],
   "source": [
    "y = y.reshape((m,1))\n",
    "print(y.shape)"
   ]
  },
  {
   "cell_type": "code",
   "execution_count": 90,
   "metadata": {
    "_cell_guid": "751d5551-dfa1-4846-b1a8-78b5e7244b1b",
    "_uuid": "5ad20422072241fa0ec65bcc30d420bc9d71005b",
    "execution": {
     "iopub.execute_input": "2021-06-15T23:34:01.423969Z",
     "iopub.status.busy": "2021-06-15T23:34:01.423509Z",
     "iopub.status.idle": "2021-06-15T23:34:01.434212Z",
     "shell.execute_reply": "2021-06-15T23:34:01.433337Z",
     "shell.execute_reply.started": "2021-06-15T23:34:01.423908Z"
    }
   },
   "outputs": [
    {
     "data": {
      "image/png": "[encoded data removed]",
      "text/plain": [
       "<Figure size 432x288 with 1 Axes>"
      ]
     },
     "metadata": {
      "needs_background": "light"
     },
     "output_type": "display_data"
    }
   ],
   "source": [
    "def normscaler(Z, normal=False, scale='max'): \n",
    "    Zn = np.zeros(Z.shape)\n",
    "    for col in range(Zn.shape[1]):\n",
    "        std = Z[:,col].std()\n",
    "        clm = Z[:,col]\n",
    "        mn = Z[:,col].mean()\n",
    "        mx = Z[:,col].max()\n",
    "        nrm = 0\n",
    "        sclr = 1\n",
    "        if normal:\n",
    "            nrm = mn\n",
    "        if scale =='max':\n",
    "            sclr = mx\n",
    "        elif scale == 'std':\n",
    "            sclr = std\n",
    "        Zn[:,col] = (clm-nrm)/sclr\n",
    "        \n",
    "    return Zn\n",
    "    \n",
    "Xn = normscaler(X, normal=True, scale='std')\n",
    "yn = normscaler(y, normal=True, scale='std')\n",
    "plt.plot(Xn, yn, 'r.')\n",
    "plt.show()"
   ]
  },
  {
   "cell_type": "code",
   "execution_count": 71,
   "metadata": {
    "_cell_guid": "a6ee56c4-2fe9-4662-93ca-ef2dd06ef7d2",
    "_uuid": "128489650c606fa66a9e8ecafd096fe8a77096a0",
    "execution": {
     "iopub.execute_input": "2021-06-15T23:34:01.630073Z",
     "iopub.status.busy": "2021-06-15T23:34:01.629439Z",
     "iopub.status.idle": "2021-06-15T23:34:01.635541Z",
     "shell.execute_reply": "2021-06-15T23:34:01.634480Z",
     "shell.execute_reply.started": "2021-06-15T23:34:01.630009Z"
    }
   },
   "outputs": [],
   "source": [
    "# parameter initialization (choose any theta at initial)\n",
    "theta = np.array([0.9,-1])"
   ]
  },
  {
   "cell_type": "code",
   "execution_count": 92,
   "metadata": {
    "_cell_guid": "06203bf4-6983-47ed-90b0-0b00328d624d",
    "_uuid": "7758748306294641205633a3c44edd4ddd561bbe",
    "execution": {
     "iopub.execute_input": "2021-06-15T23:34:01.638176Z",
     "iopub.status.busy": "2021-06-15T23:34:01.637518Z",
     "iopub.status.idle": "2021-06-15T23:34:01.885049Z",
     "shell.execute_reply": "2021-06-15T23:34:01.883302Z",
     "shell.execute_reply.started": "2021-06-15T23:34:01.638109Z"
    }
   },
   "outputs": [
    {
     "data": {
      "image/png": "[encoded data removed]",
      "text/plain": [
       "<Figure size 432x288 with 1 Axes>"
      ]
     },
     "metadata": {
      "needs_background": "light"
     },
     "output_type": "display_data"
    }
   ],
   "source": [
    "lineX = np.linspace(Xn.min(), Xn.max(), 100)\n",
    "liney = [theta[0] + theta[1]*xx for xx in lineX]\n",
    "\n",
    "plt.plot(Xn,yn,'r.', label='Data Latih')\n",
    "plt.plot(lineX,liney,'b--', label='Hipotesis awal')\n",
    "plt.legend()\n",
    "plt.show()"
   ]
  },
  {
   "cell_type": "code",
   "execution_count": 73,
   "metadata": {
    "_cell_guid": "9bbf0c4f-a4b7-450d-aa27-48fa7e513b54",
    "_uuid": "730e3ad7aa6480f65e8af339100dc0f2f97708c6",
    "execution": {
     "iopub.execute_input": "2021-06-15T23:34:01.887921Z",
     "iopub.status.busy": "2021-06-15T23:34:01.887156Z",
     "iopub.status.idle": "2021-06-15T23:34:01.903106Z",
     "shell.execute_reply": "2021-06-15T23:34:01.901753Z",
     "shell.execute_reply.started": "2021-06-15T23:34:01.887640Z"
    }
   },
   "outputs": [
    {
     "data": {
      "text/plain": [
       "2.2609282529623553"
      ]
     },
     "execution_count": 73,
     "metadata": {},
     "output_type": "execute_result"
    }
   ],
   "source": [
    "def cost_function(X, y, theta, deriv=False):\n",
    "    z = np.ones((len(X),1))\n",
    "    X = np.append(z, X, axis=1)\n",
    "    \n",
    "    if deriv:\n",
    "        loss     = X.dot(theta)-y\n",
    "        gradient = X.T.dot(loss)/len(X)\n",
    "        return gradient, loss\n",
    "        \n",
    "    else:\n",
    "        h = X.dot(theta)\n",
    "        j = (h-y.flatten())\n",
    "        J = j.dot(j)/2/(len(X))\n",
    "        return J\n",
    "    \n",
    "cost_function(Xn, yn, theta)"
   ]
  },
  {
   "cell_type": "code",
   "execution_count": 93,
   "metadata": {
    "_cell_guid": "935cbc0f-fa58-41ad-a546-2f2565fe1c52",
    "_uuid": "e4eff4477ebc1ea857adbd15022ceca4ec6f5a93",
    "execution": {
     "iopub.execute_input": "2021-06-15T23:34:01.905880Z",
     "iopub.status.busy": "2021-06-15T23:34:01.904961Z",
     "iopub.status.idle": "2021-06-15T23:34:02.053230Z",
     "shell.execute_reply": "2021-06-15T23:34:02.052325Z",
     "shell.execute_reply.started": "2021-06-15T23:34:01.905796Z"
    }
   },
   "outputs": [],
   "source": [
    "def GradDescent(features, target, param, learnRate=0.01, multiple=1, batch=len(X), log=False):\n",
    "\n",
    "    iterations = batch*len(features)\n",
    "    epochs     = iterations*multiple\n",
    "    y          = target.flatten()\n",
    "    t          = param\n",
    "    b          = batch\n",
    "    a          = learnRate\n",
    "    \n",
    "    theta_history  = np.zeros((param.shape[0],epochs)).T\n",
    "    cost_history   = [0]*epochs\n",
    "    \n",
    "    for ix in range(epochs):\n",
    "        \n",
    "        i    = epochs%len(X)\n",
    "        cost = cost_function(features[i:i+b], y[i:i+b], t)\n",
    "\n",
    "        cost_history[ix]   = cost\n",
    "        theta_history[ix]  = t\n",
    "\n",
    "        g, l = cost_function(features[i:i+b], y[i:i+b], t, deriv=True)\n",
    "        t    = t-a*g\n",
    "        \n",
    "        if log:\n",
    "            if ix%250==0:\n",
    "                print(\"iteration :\", ix+1)\n",
    "                #print(\"\\tloss     = \", l)\n",
    "                print(\"\\tgradient = \", g)\n",
    "                print(\"\\trate     = \", a*g)\n",
    "                print(\"\\ttheta    = \", t)\n",
    "                print(\"\\tcost     = \", cost)\n",
    "            \n",
    "    return cost_history, theta_history\n",
    "\n",
    "alpha = 0.01\n",
    "mul = 10\n",
    "bat = 8\n",
    "ch, th = GradDescent(Xn,yn,theta,alpha,mul,bat,log=False)"
   ]
  },
  {
   "cell_type": "code",
   "execution_count": 94,
   "metadata": {
    "_cell_guid": "e3162d59-9bd6-4002-b30d-9b3dc7a7b451",
    "_uuid": "96f001195482b3deceef171dfd8e926053bf1022",
    "execution": {
     "iopub.execute_input": "2021-06-15T23:34:02.054948Z",
     "iopub.status.busy": "2021-06-15T23:34:02.054459Z",
     "iopub.status.idle": "2021-06-15T23:34:02.273641Z",
     "shell.execute_reply": "2021-06-15T23:34:02.272594Z",
     "shell.execute_reply.started": "2021-06-15T23:34:02.054887Z"
    }
   },
   "outputs": [
    {
     "data": {
      "image/png": "[encoded data removed]",
      "text/plain": [
       "<Figure size 432x288 with 1 Axes>"
      ]
     },
     "metadata": {
      "needs_background": "light"
     },
     "output_type": "display_data"
    }
   ],
   "source": [
    "lineX = np.linspace(Xn.min(), Xn.max(), 100)\n",
    "liney = [th[-1,0] + th[-1,1]*xx for xx in lineX]\n",
    "\n",
    "plt.plot(Xn,yn,'r.', label='Data Latih')\n",
    "plt.plot(lineX,liney,'b--', label='Hipotesis akhir')\n",
    "plt.legend()\n",
    "plt.show()"
   ]
  },
  {
   "cell_type": "code",
   "execution_count": 76,
   "metadata": {
    "_cell_guid": "1171ef2a-bf8e-4c66-ac37-5b43057ca80d",
    "_uuid": "a25fcb08f1cf1d89f5884b20a6d0472d14e99b9a",
    "execution": {
     "iopub.execute_input": "2021-06-15T23:34:02.275829Z",
     "iopub.status.busy": "2021-06-15T23:34:02.275249Z",
     "iopub.status.idle": "2021-06-15T23:34:02.517415Z",
     "shell.execute_reply": "2021-06-15T23:34:02.516271Z",
     "shell.execute_reply.started": "2021-06-15T23:34:02.275767Z"
    }
   },
   "outputs": [
    {
     "data": {
      "image/png": "[encoded data removed]",
      "text/plain": [
       "<Figure size 432x288 with 1 Axes>"
      ]
     },
     "metadata": {
      "needs_background": "light"
     },
     "output_type": "display_data"
    }
   ],
   "source": [
    "plt.plot(ch,'g--')\n",
    "plt.show()"
   ]
  },
  {
   "cell_type": "code",
   "execution_count": 103,
   "metadata": {
    "_cell_guid": "4a723d32-f331-4fd3-86f4-05b993e404fa",
    "_uuid": "f5c9f15857c2bd98aca3099519c92c16d039f61b",
    "execution": {
     "iopub.execute_input": "2021-06-15T23:34:02.519812Z",
     "iopub.status.busy": "2021-06-15T23:34:02.519188Z",
     "iopub.status.idle": "2021-06-15T23:34:02.742902Z",
     "shell.execute_reply": "2021-06-15T23:34:02.741822Z",
     "shell.execute_reply.started": "2021-06-15T23:34:02.519743Z"
    }
   },
   "outputs": [
    {
     "name": "stdout",
     "output_type": "stream",
     "text": [
      "[9.00000000e-01 8.86872266e-01 8.73900415e-01 ... 9.22330515e-05\n",
      " 9.22332512e-05 9.22334501e-05]\n"
     ]
    },
    {
     "data": {
      "image/png": "[encoded data removed]",
      "text/plain": [
       "<Figure size 432x288 with 1 Axes>"
      ]
     },
     "metadata": {
      "needs_background": "light"
     },
     "output_type": "display_data"
    }
   ],
   "source": [
    "plt.plot(th[:,0],'r-.')\n",
    "plt.plot(th[:,1],'b-.')\n",
    "print(th[:,0])\n",
    "plt.show()"
   ]
  },
  {
   "cell_type": "code",
   "execution_count": 78,
   "metadata": {
    "_cell_guid": "ca864d96-f803-43e0-a768-30b8e61cc4af",
    "_uuid": "a98105f43909b0c3f39d198f2278cbcbb8f50b08",
    "execution": {
     "iopub.execute_input": "2021-06-15T23:34:02.745152Z",
     "iopub.status.busy": "2021-06-15T23:34:02.744567Z",
     "iopub.status.idle": "2021-06-15T23:34:02.957284Z",
     "shell.execute_reply": "2021-06-15T23:34:02.956429Z",
     "shell.execute_reply.started": "2021-06-15T23:34:02.745090Z"
    }
   },
   "outputs": [],
   "source": [
    "#Grid over which we will calculate J\n",
    "theta0_vals = np.linspace(-2, 2, 100)\n",
    "theta1_vals = np.linspace(-2, 3, 100)\n",
    "\n",
    "#initialize J_vals to a matrix of 0's\n",
    "J_vals = np.zeros((theta0_vals.size, theta1_vals.size))\n",
    "\n",
    "#Fill out J_vals\n",
    "for t1, element in enumerate(theta0_vals):\n",
    "    for t2, element2 in enumerate(theta1_vals):\n",
    "        thetaT = np.zeros(shape=(2, 1))\n",
    "        thetaT[0][0] = element\n",
    "        thetaT[1][0] = element2\n",
    "        J_vals[t1, t2] = cost_function(Xn, yn, thetaT.flatten())\n",
    "\n",
    "#Contour plot\n",
    "J_vals = J_vals.T"
   ]
  },
  {
   "cell_type": "code",
   "execution_count": 79,
   "metadata": {
    "_cell_guid": "7002404e-7740-4fa7-9dce-9b45337258ac",
    "_uuid": "098b6aebb98bdc38f5aaade59f399e974b0a2eb5",
    "execution": {
     "iopub.execute_input": "2021-06-15T23:34:02.958797Z",
     "iopub.status.busy": "2021-06-15T23:34:02.958391Z",
     "iopub.status.idle": "2021-06-15T23:34:03.352179Z",
     "shell.execute_reply": "2021-06-15T23:34:03.351070Z",
     "shell.execute_reply.started": "2021-06-15T23:34:02.958756Z"
    }
   },
   "outputs": [
    {
     "data": {
      "image/png": "[encoded data removed]",
      "text/plain": [
       "<Figure size 432x288 with 2 Axes>"
      ]
     },
     "metadata": {
      "needs_background": "light"
     },
     "output_type": "display_data"
    }
   ],
   "source": [
    "A, B = np.meshgrid(theta0_vals, theta1_vals)\n",
    "C = J_vals\n",
    "\n",
    "cp = plt.contourf(A, B, C)\n",
    "plt.colorbar(cp)\n",
    "plt.plot(th.T[0],th.T[1],'r--')\n",
    "plt.show()"
   ]
  },
  {
   "cell_type": "code",
   "execution_count": 80,
   "metadata": {
    "_cell_guid": "a388ca87-1071-43d8-8691-479badaa45e2",
    "_uuid": "0a65bbe661c64cd87e42a6b15fe825bfd5a1239e",
    "execution": {
     "iopub.execute_input": "2021-06-15T23:34:03.354605Z",
     "iopub.status.busy": "2021-06-15T23:34:03.353967Z",
     "iopub.status.idle": "2021-06-15T23:39:43.811352Z",
     "shell.execute_reply": "2021-06-15T23:39:43.810192Z",
     "shell.execute_reply.started": "2021-06-15T23:34:03.354539Z"
    }
   },
   "outputs": [
    {
     "name": "stderr",
     "output_type": "stream",
     "text": [
      "MovieWriter stderr:\n",
      "convert-im6.q16: no images defined `animation.gif' @ error/convert.c/ConvertImageCommand/3258.\n",
      "\n"
     ]
    },
    {
     "ename": "CalledProcessError",
     "evalue": "Command '['convert', '-size', '864x360', '-depth', '8', '-delay', '3.3333333333333335', '-loop', '0', 'rgba:-', 'animation.gif']' returned non-zero exit status 1.",
     "output_type": "error",
     "traceback": [
      "\u001b[0;31m---------------------------------------------------------------------------\u001b[0m",
      "\u001b[0;31mBrokenPipeError\u001b[0m                           Traceback (most recent call last)",
      "\u001b[0;32m/usr/local/lib/python3.8/dist-packages/matplotlib/animation.py\u001b[0m in \u001b[0;36msaving\u001b[0;34m(self, fig, outfile, dpi, *args, **kwargs)\u001b[0m\n\u001b[1;32m    250\u001b[0m         \u001b[0;32mtry\u001b[0m\u001b[0;34m:\u001b[0m\u001b[0;34m\u001b[0m\u001b[0;34m\u001b[0m\u001b[0m\n\u001b[0;32m--> 251\u001b[0;31m             \u001b[0;32myield\u001b[0m \u001b[0mself\u001b[0m\u001b[0;34m\u001b[0m\u001b[0;34m\u001b[0m\u001b[0m\n\u001b[0m\u001b[1;32m    252\u001b[0m         \u001b[0;32mfinally\u001b[0m\u001b[0;34m:\u001b[0m\u001b[0;34m\u001b[0m\u001b[0;34m\u001b[0m\u001b[0m\n",
      "\u001b[0;32m/usr/local/lib/python3.8/dist-packages/matplotlib/animation.py\u001b[0m in \u001b[0;36msave\u001b[0;34m(self, filename, writer, fps, dpi, codec, bitrate, extra_args, metadata, extra_anim, savefig_kwargs, progress_callback)\u001b[0m\n\u001b[1;32m   1144\u001b[0m                         \u001b[0mframe_number\u001b[0m \u001b[0;34m+=\u001b[0m \u001b[0;36m1\u001b[0m\u001b[0;34m\u001b[0m\u001b[0;34m\u001b[0m\u001b[0m\n\u001b[0;32m-> 1145\u001b[0;31m                 \u001b[0mwriter\u001b[0m\u001b[0;34m.\u001b[0m\u001b[0mgrab_frame\u001b[0m\u001b[0;34m(\u001b[0m\u001b[0;34m**\u001b[0m\u001b[0msavefig_kwargs\u001b[0m\u001b[0;34m)\u001b[0m\u001b[0;34m\u001b[0m\u001b[0;34m\u001b[0m\u001b[0m\n\u001b[0m\u001b[1;32m   1146\u001b[0m \u001b[0;34m\u001b[0m\u001b[0m\n",
      "\u001b[0;32m/usr/local/lib/python3.8/dist-packages/matplotlib/animation.py\u001b[0m in \u001b[0;36mgrab_frame\u001b[0;34m(self, **savefig_kwargs)\u001b[0m\n\u001b[1;32m    362\u001b[0m         \u001b[0;31m# Save the figure data to the sink, using the frame format and dpi.\u001b[0m\u001b[0;34m\u001b[0m\u001b[0;34m\u001b[0m\u001b[0;34m\u001b[0m\u001b[0m\n\u001b[0;32m--> 363\u001b[0;31m         self.fig.savefig(self._frame_sink(), format=self.frame_format,\n\u001b[0m\u001b[1;32m    364\u001b[0m                          dpi=self.dpi, **savefig_kwargs)\n",
      "\u001b[0;32m/usr/local/lib/python3.8/dist-packages/matplotlib/figure.py\u001b[0m in \u001b[0;36msavefig\u001b[0;34m(self, fname, transparent, **kwargs)\u001b[0m\n\u001b[1;32m   2310\u001b[0m \u001b[0;34m\u001b[0m\u001b[0m\n\u001b[0;32m-> 2311\u001b[0;31m         \u001b[0mself\u001b[0m\u001b[0;34m.\u001b[0m\u001b[0mcanvas\u001b[0m\u001b[0;34m.\u001b[0m\u001b[0mprint_figure\u001b[0m\u001b[0;34m(\u001b[0m\u001b[0mfname\u001b[0m\u001b[0;34m,\u001b[0m \u001b[0;34m**\u001b[0m\u001b[0mkwargs\u001b[0m\u001b[0;34m)\u001b[0m\u001b[0;34m\u001b[0m\u001b[0;34m\u001b[0m\u001b[0m\n\u001b[0m\u001b[1;32m   2312\u001b[0m \u001b[0;34m\u001b[0m\u001b[0m\n",
      "\u001b[0;32m/usr/local/lib/python3.8/dist-packages/matplotlib/backend_bases.py\u001b[0m in \u001b[0;36mprint_figure\u001b[0;34m(self, filename, dpi, facecolor, edgecolor, orientation, format, bbox_inches, pad_inches, bbox_extra_artists, backend, **kwargs)\u001b[0m\n\u001b[1;32m   2209\u001b[0m             \u001b[0;32mtry\u001b[0m\u001b[0;34m:\u001b[0m\u001b[0;34m\u001b[0m\u001b[0;34m\u001b[0m\u001b[0m\n\u001b[0;32m-> 2210\u001b[0;31m                 result = print_method(\n\u001b[0m\u001b[1;32m   2211\u001b[0m                     \u001b[0mfilename\u001b[0m\u001b[0;34m,\u001b[0m\u001b[0;34m\u001b[0m\u001b[0;34m\u001b[0m\u001b[0m\n",
      "\u001b[0;32m/usr/local/lib/python3.8/dist-packages/matplotlib/backend_bases.py\u001b[0m in \u001b[0;36mwrapper\u001b[0;34m(*args, **kwargs)\u001b[0m\n\u001b[1;32m   1638\u001b[0m \u001b[0;34m\u001b[0m\u001b[0m\n\u001b[0;32m-> 1639\u001b[0;31m         \u001b[0;32mreturn\u001b[0m \u001b[0mfunc\u001b[0m\u001b[0;34m(\u001b[0m\u001b[0;34m*\u001b[0m\u001b[0margs\u001b[0m\u001b[0;34m,\u001b[0m \u001b[0;34m**\u001b[0m\u001b[0mkwargs\u001b[0m\u001b[0;34m)\u001b[0m\u001b[0;34m\u001b[0m\u001b[0;34m\u001b[0m\u001b[0m\n\u001b[0m\u001b[1;32m   1640\u001b[0m \u001b[0;34m\u001b[0m\u001b[0m\n",
      "\u001b[0;32m/usr/local/lib/python3.8/dist-packages/matplotlib/backends/backend_agg.py\u001b[0m in \u001b[0;36mprint_raw\u001b[0;34m(self, filename_or_obj, *args)\u001b[0m\n\u001b[1;32m    455\u001b[0m         \u001b[0;32mwith\u001b[0m \u001b[0mcbook\u001b[0m\u001b[0;34m.\u001b[0m\u001b[0mopen_file_cm\u001b[0m\u001b[0;34m(\u001b[0m\u001b[0mfilename_or_obj\u001b[0m\u001b[0;34m,\u001b[0m \u001b[0;34m\"wb\"\u001b[0m\u001b[0;34m)\u001b[0m \u001b[0;32mas\u001b[0m \u001b[0mfh\u001b[0m\u001b[0;34m:\u001b[0m\u001b[0;34m\u001b[0m\u001b[0;34m\u001b[0m\u001b[0m\n\u001b[0;32m--> 456\u001b[0;31m             \u001b[0mfh\u001b[0m\u001b[0;34m.\u001b[0m\u001b[0mwrite\u001b[0m\u001b[0;34m(\u001b[0m\u001b[0mrenderer\u001b[0m\u001b[0;34m.\u001b[0m\u001b[0mbuffer_rgba\u001b[0m\u001b[0;34m(\u001b[0m\u001b[0;34m)\u001b[0m\u001b[0;34m)\u001b[0m\u001b[0;34m\u001b[0m\u001b[0;34m\u001b[0m\u001b[0m\n\u001b[0m\u001b[1;32m    457\u001b[0m \u001b[0;34m\u001b[0m\u001b[0m\n",
      "\u001b[0;31mBrokenPipeError\u001b[0m: [Errno 32] Broken pipe",
      "\nDuring handling of the above exception, another exception occurred:\n",
      "\u001b[0;31mCalledProcessError\u001b[0m                        Traceback (most recent call last)",
      "\u001b[0;32m<ipython-input-80-f459773ca34e>\u001b[0m in \u001b[0;36m<module>\u001b[0;34m\u001b[0m\n\u001b[1;32m     56\u001b[0m                                frames=800, interval=0, blit=True)\n\u001b[1;32m     57\u001b[0m \u001b[0;34m\u001b[0m\u001b[0m\n\u001b[0;32m---> 58\u001b[0;31m \u001b[0manim\u001b[0m\u001b[0;34m.\u001b[0m\u001b[0msave\u001b[0m\u001b[0;34m(\u001b[0m\u001b[0;34m'animation.gif'\u001b[0m\u001b[0;34m,\u001b[0m \u001b[0mwriter\u001b[0m\u001b[0;34m=\u001b[0m\u001b[0;34m'imagemagick'\u001b[0m\u001b[0;34m,\u001b[0m \u001b[0mfps\u001b[0m \u001b[0;34m=\u001b[0m \u001b[0;36m30\u001b[0m\u001b[0;34m)\u001b[0m\u001b[0;34m\u001b[0m\u001b[0;34m\u001b[0m\u001b[0m\n\u001b[0m",
      "\u001b[0;32m/usr/local/lib/python3.8/dist-packages/matplotlib/animation.py\u001b[0m in \u001b[0;36msave\u001b[0;34m(self, filename, writer, fps, dpi, codec, bitrate, extra_args, metadata, extra_anim, savefig_kwargs, progress_callback)\u001b[0m\n\u001b[1;32m   1143\u001b[0m                         \u001b[0mprogress_callback\u001b[0m\u001b[0;34m(\u001b[0m\u001b[0mframe_number\u001b[0m\u001b[0;34m,\u001b[0m \u001b[0mtotal_frames\u001b[0m\u001b[0;34m)\u001b[0m\u001b[0;34m\u001b[0m\u001b[0;34m\u001b[0m\u001b[0m\n\u001b[1;32m   1144\u001b[0m                         \u001b[0mframe_number\u001b[0m \u001b[0;34m+=\u001b[0m \u001b[0;36m1\u001b[0m\u001b[0;34m\u001b[0m\u001b[0;34m\u001b[0m\u001b[0m\n\u001b[0;32m-> 1145\u001b[0;31m                 \u001b[0mwriter\u001b[0m\u001b[0;34m.\u001b[0m\u001b[0mgrab_frame\u001b[0m\u001b[0;34m(\u001b[0m\u001b[0;34m**\u001b[0m\u001b[0msavefig_kwargs\u001b[0m\u001b[0;34m)\u001b[0m\u001b[0;34m\u001b[0m\u001b[0;34m\u001b[0m\u001b[0m\n\u001b[0m\u001b[1;32m   1146\u001b[0m \u001b[0;34m\u001b[0m\u001b[0m\n\u001b[1;32m   1147\u001b[0m     \u001b[0;32mdef\u001b[0m \u001b[0m_step\u001b[0m\u001b[0;34m(\u001b[0m\u001b[0mself\u001b[0m\u001b[0;34m,\u001b[0m \u001b[0;34m*\u001b[0m\u001b[0margs\u001b[0m\u001b[0;34m)\u001b[0m\u001b[0;34m:\u001b[0m\u001b[0;34m\u001b[0m\u001b[0;34m\u001b[0m\u001b[0m\n",
      "\u001b[0;32m/usr/lib/python3.8/contextlib.py\u001b[0m in \u001b[0;36m__exit__\u001b[0;34m(self, type, value, traceback)\u001b[0m\n\u001b[1;32m    129\u001b[0m                 \u001b[0mvalue\u001b[0m \u001b[0;34m=\u001b[0m \u001b[0mtype\u001b[0m\u001b[0;34m(\u001b[0m\u001b[0;34m)\u001b[0m\u001b[0;34m\u001b[0m\u001b[0;34m\u001b[0m\u001b[0m\n\u001b[1;32m    130\u001b[0m             \u001b[0;32mtry\u001b[0m\u001b[0;34m:\u001b[0m\u001b[0;34m\u001b[0m\u001b[0;34m\u001b[0m\u001b[0m\n\u001b[0;32m--> 131\u001b[0;31m                 \u001b[0mself\u001b[0m\u001b[0;34m.\u001b[0m\u001b[0mgen\u001b[0m\u001b[0;34m.\u001b[0m\u001b[0mthrow\u001b[0m\u001b[0;34m(\u001b[0m\u001b[0mtype\u001b[0m\u001b[0;34m,\u001b[0m \u001b[0mvalue\u001b[0m\u001b[0;34m,\u001b[0m \u001b[0mtraceback\u001b[0m\u001b[0;34m)\u001b[0m\u001b[0;34m\u001b[0m\u001b[0;34m\u001b[0m\u001b[0m\n\u001b[0m\u001b[1;32m    132\u001b[0m             \u001b[0;32mexcept\u001b[0m \u001b[0mStopIteration\u001b[0m \u001b[0;32mas\u001b[0m \u001b[0mexc\u001b[0m\u001b[0;34m:\u001b[0m\u001b[0;34m\u001b[0m\u001b[0;34m\u001b[0m\u001b[0m\n\u001b[1;32m    133\u001b[0m                 \u001b[0;31m# Suppress StopIteration *unless* it's the same exception that\u001b[0m\u001b[0;34m\u001b[0m\u001b[0;34m\u001b[0m\u001b[0;34m\u001b[0m\u001b[0m\n",
      "\u001b[0;32m/usr/local/lib/python3.8/dist-packages/matplotlib/animation.py\u001b[0m in \u001b[0;36msaving\u001b[0;34m(self, fig, outfile, dpi, *args, **kwargs)\u001b[0m\n\u001b[1;32m    251\u001b[0m             \u001b[0;32myield\u001b[0m \u001b[0mself\u001b[0m\u001b[0;34m\u001b[0m\u001b[0;34m\u001b[0m\u001b[0m\n\u001b[1;32m    252\u001b[0m         \u001b[0;32mfinally\u001b[0m\u001b[0;34m:\u001b[0m\u001b[0;34m\u001b[0m\u001b[0;34m\u001b[0m\u001b[0m\n\u001b[0;32m--> 253\u001b[0;31m             \u001b[0mself\u001b[0m\u001b[0;34m.\u001b[0m\u001b[0mfinish\u001b[0m\u001b[0;34m(\u001b[0m\u001b[0;34m)\u001b[0m\u001b[0;34m\u001b[0m\u001b[0;34m\u001b[0m\u001b[0m\n\u001b[0m\u001b[1;32m    254\u001b[0m \u001b[0;34m\u001b[0m\u001b[0m\n\u001b[1;32m    255\u001b[0m \u001b[0;34m\u001b[0m\u001b[0m\n",
      "\u001b[0;32m/usr/local/lib/python3.8/dist-packages/matplotlib/animation.py\u001b[0m in \u001b[0;36mfinish\u001b[0;34m(self)\u001b[0m\n\u001b[1;32m    352\u001b[0m     \u001b[0;32mdef\u001b[0m \u001b[0mfinish\u001b[0m\u001b[0;34m(\u001b[0m\u001b[0mself\u001b[0m\u001b[0;34m)\u001b[0m\u001b[0;34m:\u001b[0m\u001b[0;34m\u001b[0m\u001b[0;34m\u001b[0m\u001b[0m\n\u001b[1;32m    353\u001b[0m         \u001b[0;34m\"\"\"Finish any processing for writing the movie.\"\"\"\u001b[0m\u001b[0;34m\u001b[0m\u001b[0;34m\u001b[0m\u001b[0m\n\u001b[0;32m--> 354\u001b[0;31m         \u001b[0mself\u001b[0m\u001b[0;34m.\u001b[0m\u001b[0mcleanup\u001b[0m\u001b[0;34m(\u001b[0m\u001b[0;34m)\u001b[0m\u001b[0;34m\u001b[0m\u001b[0;34m\u001b[0m\u001b[0m\n\u001b[0m\u001b[1;32m    355\u001b[0m \u001b[0;34m\u001b[0m\u001b[0m\n\u001b[1;32m    356\u001b[0m     \u001b[0;32mdef\u001b[0m \u001b[0mgrab_frame\u001b[0m\u001b[0;34m(\u001b[0m\u001b[0mself\u001b[0m\u001b[0;34m,\u001b[0m \u001b[0;34m**\u001b[0m\u001b[0msavefig_kwargs\u001b[0m\u001b[0;34m)\u001b[0m\u001b[0;34m:\u001b[0m\u001b[0;34m\u001b[0m\u001b[0;34m\u001b[0m\u001b[0m\n",
      "\u001b[0;32m/usr/local/lib/python3.8/dist-packages/matplotlib/animation.py\u001b[0m in \u001b[0;36mcleanup\u001b[0;34m(self)\u001b[0m\n\u001b[1;32m    388\u001b[0m                 \"MovieWriter stderr:\\n%s\", err)\n\u001b[1;32m    389\u001b[0m         \u001b[0;32mif\u001b[0m \u001b[0mself\u001b[0m\u001b[0;34m.\u001b[0m\u001b[0m_proc\u001b[0m\u001b[0;34m.\u001b[0m\u001b[0mreturncode\u001b[0m\u001b[0;34m:\u001b[0m\u001b[0;34m\u001b[0m\u001b[0;34m\u001b[0m\u001b[0m\n\u001b[0;32m--> 390\u001b[0;31m             raise subprocess.CalledProcessError(\n\u001b[0m\u001b[1;32m    391\u001b[0m                 self._proc.returncode, self._proc.args, out, err)\n\u001b[1;32m    392\u001b[0m \u001b[0;34m\u001b[0m\u001b[0m\n",
      "\u001b[0;31mCalledProcessError\u001b[0m: Command '['convert', '-size', '864x360', '-depth', '8', '-delay', '3.3333333333333335', '-loop', '0', 'rgba:-', 'animation.gif']' returned non-zero exit status 1."
     ]
    }
   ],
   "source": [
    "#Animation\n",
    "import matplotlib.animation as animation\n",
    "\n",
    "#Set the plot up,\n",
    "fig = plt.figure(figsize=(12,5))\n",
    "\n",
    "plt.subplot(121)\n",
    "plt.plot(Xn,yn,'ro', label='Training data')\n",
    "plt.title('Housing Price Prediction')\n",
    "plt.axis([Xn.min()-Xn.std(),Xn.max()+Xn.std(),yn.min()-yn.std(),yn.max()+yn.std()])\n",
    "plt.grid(axis='both')\n",
    "plt.xlabel(\"Size of house in ft^2 (X1) \")\n",
    "plt.ylabel(\"Price in $1000s (Y)\")\n",
    "plt.legend(loc='lower right')\n",
    "\n",
    "line, = plt.plot([], [], 'b-', label='Current Hypothesis')\n",
    "annotation = plt.text(-2, 3,'',fontsize=20,color='green')\n",
    "annotation.set_animated(True)\n",
    "\n",
    "plt.subplot(122)\n",
    "cp = plt.contourf(A, B, C)\n",
    "plt.colorbar(cp)\n",
    "plt.title('Filled Contours Plot')\n",
    "plt.xlabel('theta 0')\n",
    "plt.ylabel('theta 1')\n",
    "track, = plt.plot([], [], 'r-')\n",
    "point, = plt.plot([], [], 'ro')\n",
    "\n",
    "plt.tight_layout()\n",
    "plt.close()\n",
    "\n",
    "#Generate the animation data,\n",
    "def init():\n",
    "    line.set_data([], [])\n",
    "    track.set_data([], [])\n",
    "    point.set_data([], [])\n",
    "    annotation.set_text('')\n",
    "    return line, track, point, annotation\n",
    "\n",
    "# animation function.  This is called sequentially\n",
    "def animate(i):\n",
    "    fit1_X = np.linspace(Xn.min()-Xn.std(), Xn.max()+Xn.std(), 1000)\n",
    "    fit1_y = th[i][0] + th[i][1]*fit1_X\n",
    "    \n",
    "    fit2_X = th.T[0][:i]\n",
    "    fit2_y = th.T[1][:i]\n",
    "    \n",
    "    track.set_data(fit2_X, fit2_y)\n",
    "    line.set_data(fit1_X, fit1_y)\n",
    "    point.set_data(th.T[0][i], th.T[1][i])\n",
    "    \n",
    "    annotation.set_text('Cost = %.4f' %(ch[i]))\n",
    "    return line, track, point, annotation\n",
    "\n",
    "anim = animation.FuncAnimation(fig, animate, init_func=init,\n",
    "                               frames=800, interval=0, blit=True)\n",
    "\n",
    "anim.save('animation.gif', writer='imagemagick', fps = 30)"
   ]
  },
  {
   "cell_type": "code",
   "execution_count": null,
   "metadata": {
    "_cell_guid": "4edef8df-add8-4546-b1f7-e57c691713ee",
    "_kg_hide-input": false,
    "_kg_hide-output": false,
    "_uuid": "3770aa329a2c0fe3cf9e074892701d8718f24485",
    "execution": {
     "iopub.execute_input": "2021-06-15T23:39:43.814526Z",
     "iopub.status.busy": "2021-06-15T23:39:43.814236Z",
     "iopub.status.idle": "2021-06-15T23:39:44.192167Z",
     "shell.execute_reply": "2021-06-15T23:39:44.191129Z",
     "shell.execute_reply.started": "2021-06-15T23:39:43.814477Z"
    }
   },
   "outputs": [],
   "source": [
    "#Display the animation...\n",
    "import io\n",
    "import base64\n",
    "from IPython.display import HTML\n",
    "\n",
    "filename = 'animation.gif'\n",
    "\n",
    "video = io.open(filename, 'r+b').read()\n",
    "encoded = base64.b64encode(video)\n",
    "HTML(data='''<img src=\"data:image/gif;base64,{0}\" type=\"gif\" />'''.format(encoded.decode('ascii')))"
   ]
  }
 ],
 "metadata": {
  "kernelspec": {
   "display_name": "Python 3",
   "language": "python",
   "name": "python3"
  },
  "language_info": {
   "codemirror_mode": {
    "name": "ipython",
    "version": 3
   },
   "file_extension": ".py",
   "mimetype": "text/x-python",
   "name": "python",
   "nbconvert_exporter": "python",
   "pygments_lexer": "ipython3",
   "version": "3.8.10"
  }
 },
 "nbformat": 4,
 "nbformat_minor": 4
}
