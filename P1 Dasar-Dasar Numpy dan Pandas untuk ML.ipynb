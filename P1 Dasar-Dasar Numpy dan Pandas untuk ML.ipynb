{
 "cells": [
  {
   "cell_type": "markdown",
   "metadata": {},
   "source": [
    "\n",
    "# Praktikum 1 - Pengenalan Dasar Data Processing dengan Numpy dan Pandas #  \n",
    "\n",
    "Pada praktikum kali ini, kita akan mengenal beberapa tool yang sangat berguna untuk data processing. Ada dua tool yang akan dijelaskan yaitu: Numpy dan Pandas.  \n",
    "\n",
    "**Overview:**  \n",
    "1. **Deskripsi Numpy dan Pandas**\n",
    "1. **Contoh Penggunaan Numpy**\n",
    "  1. Operasi matematik\n",
    "  1. Operasi Vektor/Matriks\n",
    "  1. Slicing Array/Matrix\n",
    "  1. Array Manipulation  \n",
    "1. **Contoh Penggunaan Pandas**\n",
    "  1. Membaca dan Menulis file csv\n",
    "  1. Indexing, Selecting, dan Assigning\n",
    "  1. Data type\n",
    "  1. Renaming\n",
    "1. **Post Test Praktikum**\n",
    "\n",
    "\n",
    "## 1. Deskripsi Numpy dan Pandas ## \n",
    "\n",
    "### Numpy ###\n",
    "\n",
    "Numpy merupakan suatu library dalam bahasa Python yang berfungsi untuk mengolah data numerik. Kepanjangan dari Numpy adalah Numerical Python. Dengan Numpy, banyak sekali yang bisa kita lakukan, misalnya: operasi matematik, operasi pada vektor/matriks, slicing data, manipulasi array, dan sebagainya.  \n",
    "\n",
    "### Pandas ###  \n",
    "\n",
    "Sederhananya, pandas dipakai untuk pengolahan **data terstuktur**. Apa saja yang bisa kita lakukan dengan pandas? Jawabnya ya banyak sekali. Diantaranya adalah eksplorasi data (data exploration), membersihkan data (data cleansing), dan data processing. Pandas memiliki struktur data table yang dinamakan sebagai **Data Frame**.  \n",
    "\n",
    "## 2. Contoh Penggunaan Numpy ##  \n",
    "\n",
    "### A. Operasi Matematik ###  "
   ]
  },
  {
   "cell_type": "code",
   "execution_count": 1,
   "metadata": {},
   "outputs": [
    {
     "name": "stdout",
     "output_type": "stream",
     "text": [
      "Jumlah dari a + b adalah 7\n",
      "Pengurangan dari a - b adalah -1\n",
      "Perkalian dari a * b adalah 12\n",
      "Pembagian dari a / b adalah 0.75\n",
      "Hasil e^a adalah 20.085536923187668\n",
      "Ln b adalah 1.3862943611198906\n",
      "Log 100 adalah 2.0\n"
     ]
    }
   ],
   "source": [
    "import numpy as np\n",
    "\n",
    "# penjumlahan\n",
    "a, b = 3, 4\n",
    "c = np.add(a,b)\n",
    "print(\"Jumlah dari a + b adalah\",c)\n",
    "\n",
    "# pengurangan\n",
    "c = np.subtract(a,b)\n",
    "print(\"Pengurangan dari a - b adalah\",c)\n",
    "\n",
    "# perkalian\n",
    "c = np.multiply(a,b)\n",
    "print(\"Perkalian dari a * b adalah\",c)\n",
    "\n",
    "# pembagian\n",
    "c = np.divide(3,4)\n",
    "print(\"Pembagian dari a / b adalah\",c)\n",
    "\n",
    "# eksponensial\n",
    "c = np.exp(a) # exp adalah bilangan natural Euler. Nilai dari e adalah 2.718...\n",
    "print(\"Hasil e^a adalah\",c)\n",
    "\n",
    "# logaritmik alami atau ln\n",
    "c = np.log(b)\n",
    "print(\"Ln b adalah\",c)\n",
    "\n",
    "# logaritmik basis 10\n",
    "c = np.log10(100)\n",
    "print(\"Log 100 adalah\",c)"
   ]
  },
  {
   "cell_type": "markdown",
   "metadata": {},
   "source": [
    "### B. Operasi Vektor/Matriks ###  "
   ]
  },
  {
   "cell_type": "code",
   "execution_count": 2,
   "metadata": {},
   "outputs": [
    {
     "name": "stdout",
     "output_type": "stream",
     "text": [
      "Vektor A [1 2 3]\n",
      "Matriks B [[1 2 1]\n",
      " [2 1 3]\n",
      " [3 2 2]]\n",
      "[[2 4 4]\n",
      " [3 3 6]\n",
      " [4 4 5]]\n",
      "[[0. 0. 0. 0.]\n",
      " [0. 0. 0. 0.]\n",
      " [0. 0. 0. 0.]]\n",
      "[[1. 1. 1. 1.]\n",
      " [1. 1. 1. 1.]\n",
      " [1. 1. 1. 1.]]\n",
      "[[1 2 3]\n",
      " [2 1 2]\n",
      " [1 3 2]]\n",
      "[[1 2 3]\n",
      " [2 1 2]\n",
      " [1 3 2]]\n"
     ]
    }
   ],
   "source": [
    "# membuat vektor\n",
    "A = np.array([1,2,3]) # vektor baris 1x3\n",
    "print(\"Vektor A\",A)\n",
    "\n",
    "# membuat matriks 2 dimensi dengan ukuran 3x3\n",
    "B = np.array([\n",
    "    [1,2,1],\n",
    "    [2,1,3],\n",
    "    [3,2,2]\n",
    "])\n",
    "\n",
    "print(\"Matriks B\",B)\n",
    "\n",
    "# penjumlahan vektor/matriks\n",
    "C = np.add(A,B)\n",
    "print(C)\n",
    "\n",
    "# inisiasi array\n",
    "A = np.zeros((3,4)) # membuat matriks dengan ukuran 3x4 di mana setiap elemen bernilai nol\n",
    "print(A)\n",
    "A = np.ones((3,4)) # membuat matriks dengan ukuran 3x4 di mana setiap elemen bernilai 1\n",
    "print(A)\n",
    "\n",
    "# Matriks Tranpose\n",
    "BT = np.transpose(B)\n",
    "print(BT)\n",
    "# atau\n",
    "BT = B.T\n",
    "print(BT)\n"
   ]
  },
  {
   "cell_type": "markdown",
   "metadata": {},
   "source": [
    "### C. Slicing Array/Matrix ###  "
   ]
  },
  {
   "cell_type": "code",
   "execution_count": 3,
   "metadata": {},
   "outputs": [
    {
     "name": "stdout",
     "output_type": "stream",
     "text": [
      "[[1 2 1]]\n"
     ]
    }
   ],
   "source": [
    "# mengakses elemen dari vektor/matriks\n",
    "A = np.array([1,2,3])\n",
    "a = A[2] # angka 2 adalah indeks. Indeks dimulai dari 0\n",
    "# print(\"Elemen ke-2 dari vektor A adalah\",a)\n",
    " \n",
    "B = np.array([\n",
    "    [1,2,1],\n",
    "    [2,1,3],\n",
    "    [3,2,2]\n",
    "])\n",
    "\n",
    "# karena B adalah matriks 2 dimensi, maka untuk mengakses suatu elemen \n",
    "# membutuhakan 2 parameter yaitu baris dan kolom\n",
    "x = B[0,2] # baris ke-0 berisi [1,2,1], kolom ke-2 dari baris ke-0 adalah 1\n",
    "# print(x)\n",
    "\n",
    "# Slicing array \n",
    "x = A[0:2]\n",
    "# print(x)\n",
    "\n",
    "# memilih semua elemen sebanyak pada baris ke 0\n",
    "x = B[:1] \n",
    "print(x)"
   ]
  },
  {
   "cell_type": "markdown",
   "metadata": {},
   "source": [
    "### D. Array Manipulation ###"
   ]
  },
  {
   "cell_type": "code",
   "execution_count": 4,
   "metadata": {},
   "outputs": [
    {
     "name": "stdout",
     "output_type": "stream",
     "text": [
      "[1 2 1 2 1 3 3 2 2]\n",
      "[[1 2]\n",
      " [1 2]\n",
      " [1 3]\n",
      " [3 2]\n",
      " [2 4]\n",
      " [5 6]]\n",
      "[[1 2 1 2 1 3 3 2 2 4 5 6]]\n"
     ]
    }
   ],
   "source": [
    "# mengubah matriks 2 dimensi ke vektor\n",
    "vB = B.ravel()\n",
    "print(vB)\n",
    "\n",
    "D = np.array([\n",
    "    [1,2,1],\n",
    "    [2,1,3],\n",
    "    [3,2,2],\n",
    "    [4,5,6]\n",
    "])\n",
    "\n",
    "# mengubah bentuk array\n",
    "vC = D.reshape(6, 2) # mengubah bentuk array dari 3x4 menjadi 6x2\n",
    "print(vC)\n",
    "\n",
    "# mengubah bentuk array ke vektor 1D\n",
    "vC = D.reshape(1, -1) # sama dengan ravel()\n",
    "print(vC)"
   ]
  },
  {
   "cell_type": "markdown",
   "metadata": {},
   "source": [
    "## 3. Contoh Penggunaan Pandas ##\n",
    "\n",
    "### A. Membaca dan menulis file csv ###"
   ]
  },
  {
   "cell_type": "code",
   "execution_count": 5,
   "metadata": {},
   "outputs": [
    {
     "data": {
      "text/html": [
       "<div>\n",
       "<style scoped>\n",
       "    .dataframe tbody tr th:only-of-type {\n",
       "        vertical-align: middle;\n",
       "    }\n",
       "\n",
       "    .dataframe tbody tr th {\n",
       "        vertical-align: top;\n",
       "    }\n",
       "\n",
       "    .dataframe thead th {\n",
       "        text-align: right;\n",
       "    }\n",
       "</style>\n",
       "<table border=\"1\" class=\"dataframe\">\n",
       "  <thead>\n",
       "    <tr style=\"text-align: right;\">\n",
       "      <th></th>\n",
       "      <th>jml_lantai</th>\n",
       "      <th>ruangan</th>\n",
       "      <th>luas (m2)</th>\n",
       "      <th>harga</th>\n",
       "    </tr>\n",
       "  </thead>\n",
       "  <tbody>\n",
       "    <tr>\n",
       "      <th>0</th>\n",
       "      <td>2</td>\n",
       "      <td>2</td>\n",
       "      <td>40.5</td>\n",
       "      <td>235000.0</td>\n",
       "    </tr>\n",
       "    <tr>\n",
       "      <th>1</th>\n",
       "      <td>1</td>\n",
       "      <td>3</td>\n",
       "      <td>53.0</td>\n",
       "      <td>760000.0</td>\n",
       "    </tr>\n",
       "    <tr>\n",
       "      <th>2</th>\n",
       "      <td>10</td>\n",
       "      <td>1</td>\n",
       "      <td>28.0</td>\n",
       "      <td>320000.0</td>\n",
       "    </tr>\n",
       "    <tr>\n",
       "      <th>3</th>\n",
       "      <td>1</td>\n",
       "      <td>3</td>\n",
       "      <td>64.0</td>\n",
       "      <td>375000.0</td>\n",
       "    </tr>\n",
       "    <tr>\n",
       "      <th>4</th>\n",
       "      <td>9</td>\n",
       "      <td>2</td>\n",
       "      <td>47.8</td>\n",
       "      <td>450000.0</td>\n",
       "    </tr>\n",
       "  </tbody>\n",
       "</table>\n",
       "</div>"
      ],
      "text/plain": [
       "   jml_lantai  ruangan  luas (m2)     harga\n",
       "0           2        2       40.5  235000.0\n",
       "1           1        3       53.0  760000.0\n",
       "2          10        1       28.0  320000.0\n",
       "3           1        3       64.0  375000.0\n",
       "4           9        2       47.8  450000.0"
      ]
     },
     "execution_count": 5,
     "metadata": {},
     "output_type": "execute_result"
    }
   ],
   "source": [
    "import pandas as pd\n",
    "\n",
    "# membaca file\n",
    "data = pd.read_csv('dataset/harga_rumah.csv') # membaca file csv\n",
    "data.head() # .head() berfungsi untuk menampilkan top 5 data\n"
   ]
  },
  {
   "cell_type": "code",
   "execution_count": 6,
   "metadata": {},
   "outputs": [],
   "source": [
    "# menulis file\n",
    "df = pd.DataFrame({\n",
    "    'nama': ['Budi', 'Siti'],\n",
    "    'jenis': ['Laki-laki', 'Perempuan'],\n",
    "    'usia': [22, 21]\n",
    "})\n",
    "\n",
    "df.to_csv('dataset/fileku.csv',index=False)"
   ]
  },
  {
   "cell_type": "markdown",
   "metadata": {},
   "source": [
    "### B. Indexing, Selecting, dan Assigning ###"
   ]
  },
  {
   "cell_type": "code",
   "execution_count": 7,
   "metadata": {},
   "outputs": [
    {
     "name": "stdout",
     "output_type": "stream",
     "text": [
      "0         2\n",
      "1         1\n",
      "2        10\n",
      "3         1\n",
      "4         9\n",
      "         ..\n",
      "23759     0\n",
      "23760     0\n",
      "23761     0\n",
      "23762     1\n",
      "23763     8\n",
      "Name: jml_lantai, Length: 23764, dtype: int64\n",
      "0         2\n",
      "1         1\n",
      "2        10\n",
      "3         1\n",
      "4         9\n",
      "         ..\n",
      "23759     0\n",
      "23760     0\n",
      "23761     0\n",
      "23762     1\n",
      "23763     8\n",
      "Name: jml_lantai, Length: 23764, dtype: int64\n",
      "jml_lantai         2.0\n",
      "ruangan            2.0\n",
      "luas (m2)         40.5\n",
      "harga         235000.0\n",
      "Name: 0, dtype: float64\n",
      "0        2\n",
      "1        3\n",
      "2        1\n",
      "3        3\n",
      "4        2\n",
      "        ..\n",
      "23759    2\n",
      "23760    3\n",
      "23761    3\n",
      "23762    1\n",
      "23763    3\n",
      "Name: ruangan, Length: 23764, dtype: int64\n",
      "   jml_lantai  ruangan  luas (m2)\n",
      "0           2        2       40.5\n",
      "1           1        3       53.0\n",
      "2          10        1       28.0\n",
      "3           1        3       64.0\n",
      "4           9        2       47.8\n"
     ]
    }
   ],
   "source": [
    "# membaca salah satu kolom berdasarkan nama kolom\n",
    "df = pd.DataFrame(data)\n",
    "print(df.jml_lantai) \n",
    "print(df['jml_lantai']) \n",
    "\n",
    "# membaca baris pertama saja\n",
    "print(df.iloc[0])\n",
    "\n",
    "# membaca semua baris pada kolom tertentu berdasarkan index\n",
    "print(df.iloc[:,1]) # iloc[:,1] -> tanda : artinya semua baris, 1 artinya index kolom ke-1\n",
    "\n",
    "# membuat kolom tertentu untuk mengambil sisa kolom yang lain\n",
    "# axis = 1 artinya hanya mengambil kolom\n",
    "# bentuk dari X adalah matriks 2D\n",
    "X = df.drop(['harga'],axis=1) \n",
    "print(X.head())"
   ]
  },
  {
   "cell_type": "markdown",
   "metadata": {},
   "source": [
    "### C. Data type ###  \n",
    "\n",
    "Di sini, kita akan belajar beberapa hal, yaitu:  \n",
    "1. Melihat tipe data\n",
    "1. Konversi tipe data\n",
    "1. Mencari data NaN. NaN singkatan dari Not a Number. NaN akan menyebabkan error saat data preprocessing jika dalam suatu kolom tipe datanya tidak seragam\n",
    "1. Mehandle NaN"
   ]
  },
  {
   "cell_type": "code",
   "execution_count": 8,
   "metadata": {},
   "outputs": [
    {
     "name": "stdout",
     "output_type": "stream",
     "text": [
      "int64\n",
      "float64\n",
      "jml_lantai      int64\n",
      "ruangan         int64\n",
      "luas (m2)     float64\n",
      "harga         float64\n",
      "dtype: object\n",
      "0         2.0\n",
      "1         1.0\n",
      "2        10.0\n",
      "3         1.0\n",
      "4         9.0\n",
      "         ... \n",
      "23759     0.0\n",
      "23760     0.0\n",
      "23761     0.0\n",
      "23762     1.0\n",
      "23763     8.0\n",
      "Name: jml_lantai, Length: 23764, dtype: float64\n"
     ]
    }
   ],
   "source": [
    "# melihat tipe data dari suatu kolom\n",
    "print(df.jml_lantai.dtype)\n",
    "print(df.harga.dtype)\n",
    "\n",
    "# melihat tipe data semua kolom/atribut\n",
    "print(df.dtypes)\n",
    "\n",
    "# konvert tipe data pada kolom tertentu\n",
    "# tipe data jml_lantai sebelumnya adalah int64\n",
    "# di sini akan diconvert ke float64\n",
    "print(df.jml_lantai.astype('float64'))\n"
   ]
  },
  {
   "cell_type": "code",
   "execution_count": 9,
   "metadata": {},
   "outputs": [
    {
     "name": "stdout",
     "output_type": "stream",
     "text": [
      "   nama      jenis  usia\n",
      "2  Agus  Laki-laki   NaN\n"
     ]
    }
   ],
   "source": [
    "# mencari data yang NaN\n",
    "# NaN kepanjangan dari Not a Number\n",
    "tmp = pd.DataFrame({\n",
    "    'nama': ['Budi', 'Siti','Agus'],\n",
    "    'jenis': ['Laki-laki', 'Perempuan','Laki-laki'],\n",
    "    'usia': [22, 21,np.nan]\n",
    "})\n",
    "\n",
    "# cek yang mengandung NaN pada kolom usia\n",
    "print(tmp[pd.isnull(tmp.usia)])\n"
   ]
  },
  {
   "cell_type": "markdown",
   "metadata": {},
   "source": [
    "### D. Renaming Column ###  \n",
    "\n",
    "Seringkali, kita akan mendapati dataset yang memiliki header label. Akan tetapi, kadang juga kita mendapati dataset yang tidak memiliki header label. Untuk kasus data tanpa label, di sini kita bisa **memberi label/header** pada dataset yang kita miliki.  "
   ]
  },
  {
   "cell_type": "code",
   "execution_count": 13,
   "metadata": {},
   "outputs": [
    {
     "data": {
      "text/html": [
       "<div>\n",
       "<style scoped>\n",
       "    .dataframe tbody tr th:only-of-type {\n",
       "        vertical-align: middle;\n",
       "    }\n",
       "\n",
       "    .dataframe tbody tr th {\n",
       "        vertical-align: top;\n",
       "    }\n",
       "\n",
       "    .dataframe thead th {\n",
       "        text-align: right;\n",
       "    }\n",
       "</style>\n",
       "<table border=\"1\" class=\"dataframe\">\n",
       "  <thead>\n",
       "    <tr style=\"text-align: right;\">\n",
       "      <th></th>\n",
       "      <th>lantai</th>\n",
       "      <th>ruangan</th>\n",
       "      <th>luas (m2)</th>\n",
       "      <th>harga</th>\n",
       "    </tr>\n",
       "  </thead>\n",
       "  <tbody>\n",
       "    <tr>\n",
       "      <th>0</th>\n",
       "      <td>2</td>\n",
       "      <td>2</td>\n",
       "      <td>40.5</td>\n",
       "      <td>235000.0</td>\n",
       "    </tr>\n",
       "    <tr>\n",
       "      <th>1</th>\n",
       "      <td>1</td>\n",
       "      <td>3</td>\n",
       "      <td>53.0</td>\n",
       "      <td>760000.0</td>\n",
       "    </tr>\n",
       "    <tr>\n",
       "      <th>2</th>\n",
       "      <td>10</td>\n",
       "      <td>1</td>\n",
       "      <td>28.0</td>\n",
       "      <td>320000.0</td>\n",
       "    </tr>\n",
       "    <tr>\n",
       "      <th>3</th>\n",
       "      <td>1</td>\n",
       "      <td>3</td>\n",
       "      <td>64.0</td>\n",
       "      <td>375000.0</td>\n",
       "    </tr>\n",
       "    <tr>\n",
       "      <th>4</th>\n",
       "      <td>9</td>\n",
       "      <td>2</td>\n",
       "      <td>47.8</td>\n",
       "      <td>450000.0</td>\n",
       "    </tr>\n",
       "  </tbody>\n",
       "</table>\n",
       "</div>"
      ],
      "text/plain": [
       "   lantai  ruangan  luas (m2)     harga\n",
       "0       2        2       40.5  235000.0\n",
       "1       1        3       53.0  760000.0\n",
       "2      10        1       28.0  320000.0\n",
       "3       1        3       64.0  375000.0\n",
       "4       9        2       47.8  450000.0"
      ]
     },
     "execution_count": 13,
     "metadata": {},
     "output_type": "execute_result"
    }
   ],
   "source": [
    "# mengubah nama kolom\n",
    "\n",
    "df = df.rename(columns={'jml_lantai':'lantai'})\n",
    "df.head()"
   ]
  },
  {
   "cell_type": "markdown",
   "metadata": {},
   "source": [
    "## 4. Post-test Praktikum ##\n",
    "Petunjuk: Jawab soal-soal berikut ini dengan membuat program Python:  \n",
    "Diketahui:  \n",
    "$ A=\n",
    "         \\left[\n",
    "         \\begin{matrix}\n",
    "           1 & 2 & 3 \\\\\n",
    "           4 & 5 & 6 \\\\\n",
    "           7 & 8 & 9\n",
    "          \\end{matrix}\n",
    "          \\right]\n",
    "        $ dan $ B = \n",
    "         \\left[\n",
    "         \\begin{matrix}\n",
    "           1 & 2 & 3 \\\\\n",
    "           4 & 5 & 6 \\\\\n",
    "           7 & 8 & 9\n",
    "          \\end{matrix}\n",
    "          \\right]$\n",
    "1. Berapakah A + B? Munculkan hasilnya (poin 25)\n",
    "1. Berapakah A x B? Munculkan hasilnya (poin 25)\n",
    "1. Baca file harga_rumah.csv dan dapatkan kolom harga saja. Munculkan hasilnya (poin 25)\n",
    "1. Baca file harga_rumah.csv dan buang kolom harga. Munculkan hasilnya (poin 25)"
   ]
  }
 ],
 "metadata": {
  "kernelspec": {
   "display_name": "Python 3",
   "language": "python",
   "name": "python3"
  },
  "language_info": {
   "codemirror_mode": {
    "name": "ipython",
    "version": 3
   },
   "file_extension": ".py",
   "mimetype": "text/x-python",
   "name": "python",
   "nbconvert_exporter": "python",
   "pygments_lexer": "ipython3",
   "version": "3.8.10"
  }
 },
 "nbformat": 4,
 "nbformat_minor": 4
}
