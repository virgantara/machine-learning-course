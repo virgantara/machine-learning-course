{
 "cells": [
  {
   "cell_type": "markdown",
   "metadata": {},
   "source": [
    "## Overview ##\n",
    "1. Neuron\n",
    "1. Hidden Layer\n",
    "1. Dataset\n",
    "1. Data Preprocessing\n",
    "1. Penghitungan Loss\n",
    "1. Training Data\n",
    "1. Referensi\n",
    "\n",
    "\n",
    "\n",
    "### Neuron ###\n",
    "\n",
    "Untuk membuat neuron, langkahnya cukup sederhana yaitu hanya dengan memanfaatkan library numpy. Sebagai contoh adalah  \n",
    "![neuron](neuron.png)  \n",
    "*Gambar 1. Model sederhana dari Neuron (Perceptron)*\n",
    "\n",
    "di mana kotak merah adalah inputan, kotak biru adalah bias (B), dan kotak orange adalah fungsi aktivasi (sigmoid) $f(x)$. Dengan ini kita mendapatkan:  \n",
    "$x_1 \\to x_1 + b_1$  \n",
    "$x_2 \\to x_2 + b_2$  \n",
    "\n",
    "Kemudian, semua nilai $x_1$ dan $x_2$ ditambahkan dengan bias, sehingga:\n",
    "\n",
    "$output = (x_1 * b_1) + (x_2 * b_2) + B$ \n",
    "\n",
    "Dengan demikian, nilai $y$ bisa kita peroleh dengan:\n",
    "\n",
    "$y = f(output)$\n",
    "\n",
    "Adapun jika dibuat dalam bentuk kode adalah  "
   ]
  },
  {
   "cell_type": "code",
   "execution_count": 107,
   "metadata": {},
   "outputs": [
    {
     "name": "stdout",
     "output_type": "stream",
     "text": [
      "0.9990889488055994\n"
     ]
    }
   ],
   "source": [
    "import numpy as np \n",
    "\n",
    "# membuat fungsi sigmoid\n",
    "def sigmoid(x):\n",
    "    return 1 / (1 + np.exp(-x))\n",
    "\n",
    "class Neuron:\n",
    "    \n",
    "    def __init__(self, bobot, bias):\n",
    "        self.bobot = bobot\n",
    "        self.bias = bias\n",
    "        \n",
    "    def feedforward(self, inputan):\n",
    "        total = np.dot(self.bobot, inputan) + self.bias\n",
    "        return sigmoid(total)\n",
    "    \n",
    "bobot = np.array([0, 1])\n",
    "bias = 4\n",
    "\n",
    "n = Neuron(bobot, bias)\n",
    "\n",
    "x = np.array([2,3])\n",
    "print(n.feedforward(x))"
   ]
  },
  {
   "cell_type": "markdown",
   "metadata": {},
   "source": [
    "Di dalam sebuah neuron, terdapat beberapa istilah yaitu bobot, bias, dan fungsi aktivasi. Bobot dalam Neural Network (NN) adalah parameter utama yang berubah. Sedangkan bias adalah parameter tambahan. Nilai bias juga akan berubah seiring terjadinya training. Bias jugalah yang menyebabkan nilai dari fungsi aktivasi berpindah dari kiri / kanan.\n",
    "\n",
    "### Hidden Layer ###\n",
    "\n",
    "![MLP](mlp.png)\n",
    "*Gambar 2. Model NN untuk MLP*\n",
    "\n",
    "Hidden layer adalah layer tambahan yang berada diantara layer input dan layer output. Sebuah NN sederhana, biasanya terdiri atas input layer dan output layer. NN yang sederhana disebut sebagai **perceptron**. Penambahan hidden layer dalan NN, mengubah alur struktur NN, termasuk proses update bobot.  \n",
    "\n",
    "Pada bagian sebelumnya, kita sudah memiliki sebuah model NN dengan dua buah input (node) yaitu $x_1 = 2$ dan $x_2 = 3$. Node pada hidden layer disimbolkan dengan huruf $h$. Kita buat sebuah model NN kita dengan satu layer yang ter dua buah node yaitu $h_1$ dan $h_2$ dan satu layer output dengan satu node $o_1$. "
   ]
  },
  {
   "cell_type": "code",
   "execution_count": 108,
   "metadata": {},
   "outputs": [
    {
     "name": "stdout",
     "output_type": "stream",
     "text": [
      "0.7216325609518421\n"
     ]
    }
   ],
   "source": [
    "import numpy as np\n",
    "\n",
    "class MyNeuralNetwork:\n",
    "    def __init__(self):\n",
    "        bobot = np.array([0,1]) # inisialisasi bobot awal\n",
    "        bias = 0\n",
    "        \n",
    "        self.h1 = Neuron(bobot, bias)\n",
    "        self.h2 = Neuron(bobot, bias)\n",
    "        self.o1 = Neuron(bobot, bias)\n",
    "    \n",
    "    def feedforward(self, x):\n",
    "        out_h1 = self.h1.feedforward(x)\n",
    "        out_h2 = self.h2.feedforward(x)\n",
    "        \n",
    "        out_o1 = self.o1.feedforward(np.array([out_h1, out_h2]))\n",
    "        \n",
    "        return out_o1\n",
    "    \n",
    "network = MyNeuralNetwork()\n",
    "x = np.array([2, 3])\n",
    "\n",
    "print(network.feedforward(x))"
   ]
  },
  {
   "cell_type": "markdown",
   "metadata": {},
   "source": [
    "### Dataset ### \n",
    "\n",
    "Di praktikum ini, kita akan mengklasifikasikan jenis kelamin seseorang berdasarkan dua parameter yaitu tinggi badan dan berat badan. Kode berikut ini adalah contoh dari datasetnya:"
   ]
  },
  {
   "cell_type": "code",
   "execution_count": 109,
   "metadata": {},
   "outputs": [
    {
     "name": "stdout",
     "output_type": "stream",
     "text": [
      "    Nama  Berat  Tinggi Jk\n",
      "0   Budi     60     175  L\n",
      "1   Sari     45     150  P\n",
      "2  Indri     46     152  P\n",
      "3   Joko     66     174  L\n",
      "4  Emily     47     151  P\n",
      "5  Frank     63     169  L\n",
      "6  Ahmad     69     172  L\n",
      "7   Lusi     46     151  P\n",
      "8  Bagio     67     168  L\n",
      "9   Siti     49     146  P\n"
     ]
    }
   ],
   "source": [
    "import pandas as pd\n",
    "from sklearn.preprocessing import StandardScaler, MinMaxScaler\n",
    "from sklearn.model_selection import train_test_split\n",
    "\n",
    "data = pd.read_csv('dataset/jenis_kelamin.csv')\n",
    "\n",
    "X = data.iloc[:,1:3] # mengambil variabel independen saja\n",
    "y = data.iloc[:,3] # mengambil variabel dependen / target / output class\n",
    "\n",
    "y = y.astype('category')\n",
    "y = y.cat.codes\n",
    "\n",
    "scaler = MinMaxScaler()\n",
    "scaler.fit(X)\n",
    "X = scaler.transform(X)\n",
    "\n",
    "X_train, X_test, y_train, y_test = train_test_split(X, y, test_size=0.2, random_state=42)\n",
    "\n",
    "print(data)"
   ]
  },
  {
   "cell_type": "markdown",
   "metadata": {},
   "source": [
    "### Data Preprocessing ###  \n",
    "Dataset kita preproses dengan dua tahap, yaitu normalisasi dan label encoding.\n",
    "\n",
    "#### Normalisasi & Label Encoding ####\n",
    "Di tahap ini, kita menggunakan teknik normalisasi Min Max Scaler pada atribut independen. Sedangkan pada output, kita gunakan label encoding [0, 1] untuk menggantikan jenis kelamin [L, P]."
   ]
  },
  {
   "cell_type": "markdown",
   "metadata": {},
   "source": [
    "### Penghitungan Loss ###\n",
    "\n",
    "Sebelum melatih NN, pertama kali kita harus menghitung seberapa bagus model NN yang telah dibuat. Di dalam statistik, ada salah satu teknik yang berfungsi untuk menghitung nilai error (loss), yaitu Mean-Squared Error (MSE). Formula dari MSE adalah:\n",
    "\n",
    "$$\n",
    "MSE = \\frac{1}{n} \\sum_{i=1}^{n}(y_{true} - y_{pred})^2 \n",
    "$$\n",
    "\n",
    "Dengan melihat dataset kita, misalkan kita ambil data si Budi. Kita bisa menghitung nilai MSE-nya, yaitu:\n",
    "\n",
    "$$\n",
    "MSE = \\frac{1}{1} \\sum_{i=1}^{1}(y_t - y_p)^2   \n",
    "$$\n",
    "$$\n",
    "MSE = (y_t - y_p)^2  \n",
    "$$\n",
    "$$\n",
    "MSE = (1 - y_p)^2\n",
    "$$\n",
    "\n",
    "\n",
    "Berikut ini adalah contoh dari kode MSE"
   ]
  },
  {
   "cell_type": "code",
   "execution_count": 110,
   "metadata": {},
   "outputs": [],
   "source": [
    "import numpy as np\n",
    "\n",
    "def mse_loss(yt, yp):\n",
    "    return ((yt - yp) ** 2).mean()\n",
    "\n",
    "# 0 adalah contoh output dengan jenis kelamin laki-laki\n",
    "# 1 adalah contoh output dengan jenis kelamin perempuan\n",
    "# yt = y \n",
    "# yp = np.array([0, 0, 0, 0])\n",
    "\n",
    "# print(mse_loss(yt, yp))"
   ]
  },
  {
   "cell_type": "markdown",
   "metadata": {},
   "source": [
    "Di MSE, kita membandingkan nilai class aktual (yt) dengan nilai class hasil prediksi (yp). Dari perbandingan data contoh, sudah sangat jelas nilai dari $MSE = 0.5$ dikarenakan hanya ada dua class yp yang nilainya berbeda dengan yt. \n",
    "\n",
    "Nilai loss bisa diperoleh dengan cara menuliskan nilai loss sebagai sebuah fungsi terhadap bobot dan bias. Sehingga, loss $L$ diformulasikan dengan:\n",
    "\n",
    "$$ L(b_1, b_2, b_3, b_4, b_5, b_6, B_1, B_2, B_3) $$\n",
    "\n",
    "### Training Data ###\n",
    "\n",
    "Sebenarnya, tujuan utama dari training adalah mencari nilai bobot-bobot dan bias yang paling optimal dengan cara mengubah nilai tersebut secara berkala sehingga nilai dari loss menjadi sangat kecil (mendekati nol). Langkah ini dinamakan sebagai **optimasi parameter** (OP). Ada beberapa teknik OP yang sering digunakan yaitu Stochastic Gradient Descent (SGD) dan ADAM. Dalam praktikum ini, kita akan memakai SGD untuk OP.  \n",
    "\n",
    "Sebelum membahas SGD, mari kita ingat materi tentang **kaidah rantai** di mana:\n",
    "\n",
    "$$ \n",
    "\\frac{\\partial y}{\\partial x} = \\frac{\\partial y}{\\partial u} . \\frac{\\partial u}{\\partial x}\n",
    "$$\n",
    "\n",
    "Perhatikan Gambar 2. Bagaimana dengan nilai $b_1$ maka nilai loss $L$ juga berubah? jawabannya adalah dengan menggunakan turunan parsial $ \\frac{\\partial L}{\\partial b_1}$. \n",
    "\n",
    "Mari kita tulis ulang turunan parsial dari $\\frac{\\partial y_p}{\\partial b_1} $ di mana:  \n",
    "\n",
    "$$\n",
    "\\frac{\\partial L}{\\partial b_1} = \\frac{\\partial L}{\\partial y_p} * \\frac{\\partial y_p}{\\partial b_1}\n",
    "$$\n",
    "\n",
    "Kita bisa menghitung $\\frac{\\partial L}{\\partial y_p}$ karena kita sudah menghitung nilai loss di mana nilai $L = MSE$, seperti pada rumus di atas. Maka, yang kita dapatkan adalah:\n",
    "\n",
    "$$\n",
    "\\frac{\\partial L}{\\partial y_p} = \\frac{\\partial (1 - y_p)^2}{\\partial y_p} = -2(1 - y_p)\n",
    "$$\n",
    "\n",
    "Jika kita perhatikan pada Gambar 2, node $o_1$ adalah $y_p$ dan nilainya dipengaruhi oleh node $h_1$ dan $h_2$. Maka, kita mempunyai persamaan $y_p$ sebagai berikut:\n",
    "\n",
    "$$\n",
    "y_p = o_1 = f(b_5h_1 + b_6h_2 + B_3)\n",
    "$$\n",
    "\n",
    "di mana $f$ adalah fungsi sigmoid. Demikian pula dengan nilai $b_1$ yang hanya mempengaruhi $h_1$, maka, kita bisa menuliskan:  \n",
    "\n",
    "$$\n",
    "\\frac{\\partial y_p}{\\partial b_1} = \\frac{\\partial y_p}{\\partial h_1} * \\frac{\\partial h_1}{\\partial b_1}\n",
    "$$\n",
    "\n",
    "$$\n",
    "\\frac{\\partial y_p}{\\partial h_1} = b_5 * f'(b_5h_1 + b_6h_2 + B_3)\n",
    "$$\n",
    "\n",
    "Kalkulasi yang sama juga kita terapkan pada $\\frac{\\partial h_1}{\\partial b_1}$\n",
    "\n",
    "$$\n",
    "h_1 = f(b_1x_1 + b_2x_2 + B_1)\n",
    "$$\n",
    "\n",
    "$$\n",
    "\\frac{\\partial h_1}{\\partial b_1} = x_1 * f'(b_1x_1 + b_2 x_2 + B_1)\n",
    "$$\n",
    "\n",
    "Perlu diketahui bahwa $x_1$ itu adalah berat badan dan $x_2$ adalah tinggi badan. Langkah berikutnya adalah menurunkan fungsi sigmoid: \n",
    "\n",
    "$$\n",
    "f(x) = \\frac{1}{1 + e^{-x}}\n",
    "$$\n",
    "\n",
    "$$\n",
    "f'(x) = \\frac{e^{-x}}{(1 + e^{-x})^2} = f(x) * (1 - f(x))\n",
    "$$\n",
    "\n",
    "Alhamdulillah, kita telah berhasil menurunkan beberapa fungsi, sehingga kita bisa menghitung:  \n",
    "\n",
    "$$\n",
    "\\frac{\\partial L}{\\partial b_1} = \\frac{\\partial L}{\\partial y_p} * \\frac{\\partial y_p}{\\partial h_1} * \\frac{\\partial h_1}{\\partial b_1}\n",
    "$$\n",
    "\n",
    "Proses update bobot-bobot dan bias ini dinamakan dengan **backpropagasi** atau **backpro**. \n",
    "Mari kita langsung terjun ke kode. Kita buat terlebih dulu kode dari turunan sigmoid."
   ]
  },
  {
   "cell_type": "code",
   "execution_count": 111,
   "metadata": {},
   "outputs": [],
   "source": [
    "def d_sigmoid(x):\n",
    "    fx = sigmoid(x)\n",
    "    \n",
    "    return fx * (1 - fx)"
   ]
  },
  {
   "cell_type": "markdown",
   "metadata": {},
   "source": [
    "Kita modif ulang model NN kita, yaitu MyNeuralNetwork."
   ]
  },
  {
   "cell_type": "code",
   "execution_count": 112,
   "metadata": {},
   "outputs": [],
   "source": [
    "class MyNeuralNetwork:\n",
    "    def __init__(self):\n",
    "        \n",
    "        # generate nilai random untuk bobot-bobot\n",
    "        self.b1 = np.random.normal()\n",
    "        self.b2 = np.random.normal()\n",
    "        self.b3 = np.random.normal()\n",
    "        self.b4 = np.random.normal()\n",
    "        self.b5 = np.random.normal()\n",
    "        self.b6 = np.random.normal()\n",
    "        \n",
    "        self.B1 = np.random.normal()\n",
    "        self.B2 = np.random.normal()\n",
    "        self.B3 = np.random.normal()\n",
    "    \n",
    "    def feedforward(self, x):\n",
    "        h1 = self.b1 * x[0] + self.b2 * x[1] + self.B1\n",
    "        out_h1 = sigmoid(h1)\n",
    "        \n",
    "        h2 = self.b3 * x[0] + self.b4 + x[1] + self.B2\n",
    "        out_h2 = sigmoid(h2)\n",
    "        \n",
    "        o1 = self.b5 * out_h1 + self.b6 * out_h2 + self.B3\n",
    "        \n",
    "        return sigmoid(o1)\n",
    "    \n",
    "    def train(self, data, all_yt, lr = 0.1, epochs = 1000):\n",
    "        \n",
    "        \n",
    "        sbx = []\n",
    "        sby = []\n",
    "        \n",
    "        for epoch in range(epochs):\n",
    "            \n",
    "            for x, yt in zip(data, all_yt):\n",
    "            \n",
    "                # kalkulasi feedforward\n",
    "                jml_h1 = self.b1 * x[0] + self.b2 * x[1] + self.B1\n",
    "                h1 = sigmoid(jml_h1)\n",
    "\n",
    "                jml_h2 = self.b3 * x[0] + self.b4 * x[1] + self.B2\n",
    "                h2 = sigmoid(jml_h1)\n",
    "\n",
    "                jml_o1 = self.b5 * h1 + self.b6 * h2 + self.B3\n",
    "                o1 = sigmoid(jml_o1)\n",
    "                yp = o1\n",
    "                \n",
    "                # kalkulasi backpro\n",
    "                # neuron o1\n",
    "                d_L_d_yp = -2 * (yt - yp)\n",
    "\n",
    "                d_yp_d_b5 = h1 * d_sigmoid(jml_o1)\n",
    "                d_yp_d_b6 = h2 * d_sigmoid(jml_o1)\n",
    "                d_yp_d_B3 = d_sigmoid(jml_o1)\n",
    "                \n",
    "                d_yp_d_h1 = self.b5 * d_sigmoid(jml_o1)\n",
    "                d_yp_d_h2 = self.b6 * d_sigmoid(jml_o1)\n",
    "            \n",
    "                # neuron h1\n",
    "                d_h1_d_b1 = x[0] * d_sigmoid(jml_h1)\n",
    "                d_h1_d_b2 = x[1] * d_sigmoid(jml_h1)\n",
    "                d_h1_d_B1 = d_sigmoid(jml_h1)\n",
    "                \n",
    "                # neuron h2\n",
    "                d_h2_d_b3 = x[0] * d_sigmoid(jml_h2)\n",
    "                d_h2_d_b4 = x[1] * d_sigmoid(jml_h2)\n",
    "                d_h2_d_B2 = d_sigmoid(jml_h2)\n",
    "                \n",
    "                # mengupdate bobot b dan bias B\n",
    "                self.b1 -= lr * d_L_d_yp * d_yp_d_h1 * d_h1_d_b1\n",
    "                self.b2 -= lr * d_L_d_yp * d_yp_d_h1 * d_h1_d_b2\n",
    "                self.B1 -= lr * d_L_d_yp * d_yp_d_h1 * d_h1_d_B1\n",
    "                \n",
    "                self.b3 -= lr * d_L_d_yp * d_yp_d_h2 * d_h2_d_b3\n",
    "                self.b4 -= lr * d_L_d_yp * d_yp_d_h2 * d_h2_d_b4\n",
    "                self.B2 -= lr * d_L_d_yp * d_yp_d_h2 * d_h2_d_B2\n",
    "                \n",
    "                self.b5 -= lr * d_L_d_yp * d_yp_d_b5 \n",
    "                self.b6 -= lr * d_L_d_yp * d_yp_d_b6 \n",
    "                self.B3 -= lr * d_L_d_yp * d_yp_d_B3\n",
    "                \n",
    "                if epoch % 10 == 0:\n",
    "                    yp = np.apply_along_axis(self.feedforward, 1, data)\n",
    "                    loss = mse_loss(all_yt, yp)\n",
    "                    sbx.append(epoch)\n",
    "                    sby.append(loss)\n",
    "#                     print(\"Epoch %d loss: %.3f\" % (epoch, loss))\n",
    "                \n",
    "        return sbx, sby\n"
   ]
  },
  {
   "cell_type": "code",
   "execution_count": 113,
   "metadata": {},
   "outputs": [
    {
     "data": {
      "image/png": "[encoded data removed]",
      "text/plain": [
       "<Figure size 432x288 with 1 Axes>"
      ]
     },
     "metadata": {
      "needs_background": "light"
     },
     "output_type": "display_data"
    }
   ],
   "source": [
    "import matplotlib.pyplot as plt\n",
    "\n",
    "all_yt = y_train\n",
    "data = X_train\n",
    "\n",
    "network = MyNeuralNetwork()\n",
    "sbx, sby = network.train(data, all_yt, 0.1, 10000)\n",
    "\n",
    "plt.plot(sbx, sby)\n",
    "plt.show()"
   ]
  },
  {
   "cell_type": "markdown",
   "metadata": {},
   "source": [
    "Mari kita coba memprediksi dengan sampel berikut:"
   ]
  },
  {
   "cell_type": "code",
   "execution_count": 114,
   "metadata": {},
   "outputs": [
    {
     "name": "stdout",
     "output_type": "stream",
     "text": [
      "Oddy: 0.022\n",
      "Silvi: 0.808\n"
     ]
    }
   ],
   "source": [
    "\n",
    "\n",
    "oddy = np.array([0.75, 0.793]).reshape(-1,1) # 63 kg, 169 cm\n",
    "\n",
    "silvi = np.array([0.041, 0.172]).reshape(-1,1)  # 46 kg, 151 cm\n",
    "print(\"Oddy: %.3f\" % network.feedforward(oddy)) \n",
    "print(\"Silvi: %.3f\" % network.feedforward(silvi)) "
   ]
  },
  {
   "cell_type": "markdown",
   "metadata": {},
   "source": [
    "### Referensi ###\n",
    "Modul ini diadaptasi dari artikel milik Victor Zhou yang bisa diakses di [sini](https://victorzhou.com/blog/intro-to-neural-networks/)"
   ]
  }
 ],
 "metadata": {
  "kernelspec": {
   "display_name": "Python 3",
   "language": "python",
   "name": "python3"
  },
  "language_info": {
   "codemirror_mode": {
    "name": "ipython",
    "version": 3
   },
   "file_extension": ".py",
   "mimetype": "text/x-python",
   "name": "python",
   "nbconvert_exporter": "python",
   "pygments_lexer": "ipython3",
   "version": "3.8.10"
  }
 },
 "nbformat": 4,
 "nbformat_minor": 4
}
