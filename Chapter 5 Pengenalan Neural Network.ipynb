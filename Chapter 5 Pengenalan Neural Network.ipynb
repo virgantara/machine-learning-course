{
 "cells": [
  {
   "cell_type": "markdown",
   "metadata": {},
   "source": [
    "## Overview ##\n",
    "1. Neuron\n",
    "1. Hidden Layer\n",
    "1. Penghitungan Loss\n",
    "1. Training Neural Network\n",
    "1. Mean Squared Error (MSE) Loss\n",
    "\n",
    "### Neuron ###\n",
    "\n",
    "Untuk membuat neuron, langkahnya cukup sederhana yaitu hanya dengan memanfaatkan library numpy. Sebagai contoh adalah  \n",
    "![neuron](neuron.png)  \n",
    "\n",
    "di mana kotak merah adalah inputan, kotak biru adalah bias (B), dan kotak orange adalah fungsi aktivasi (sigmoid) $f(x)$. Dengan ini kita mendapatkan:  \n",
    "$x_1 \\to x_1 + b_1$  \n",
    "$x_2 \\to x_2 + b_2$  \n",
    "\n",
    "Kemudian, semua nilai $x_1$ dan $x_2$ ditambahkan dengan bias, sehingga:\n",
    "\n",
    "$output = (x_1 * b_1) + (x_2 * b_2) + B$ \n",
    "\n",
    "Dengan demikian, nilai $y$ bisa kita peroleh dengan:\n",
    "\n",
    "$y = f(output)$\n",
    "\n",
    "Adapun jika dibuat dalam bentuk kode adalah  "
   ]
  },
  {
   "cell_type": "code",
   "execution_count": 2,
   "metadata": {},
   "outputs": [
    {
     "name": "stdout",
     "output_type": "stream",
     "text": [
      "0.9990889488055994\n"
     ]
    }
   ],
   "source": [
    "import numpy as np \n",
    "\n",
    "# membuat fungsi sigmoid\n",
    "def sigmoid(x):\n",
    "    return 1 / (1 + np.exp(-x))\n",
    "\n",
    "class Neuron:\n",
    "    \n",
    "    def __init__(self, bobot, bias):\n",
    "        self.bobot = bobot\n",
    "        self.bias = bias\n",
    "        \n",
    "    def feedforward(self, inputan):\n",
    "        total = np.dot(self.bobot, inputan) + self.bias\n",
    "        return sigmoid(total)\n",
    "    \n",
    "bobot = np.array([0, 1])\n",
    "bias = 4\n",
    "\n",
    "n = Neuron(bobot, bias)\n",
    "\n",
    "x = np.array([2,3])\n",
    "print(n.feedforward(x))"
   ]
  },
  {
   "cell_type": "markdown",
   "metadata": {},
   "source": [
    "Di dalam sebuah neuron, terdapat beberapa istilah yaitu bobot, bias, dan fungsi aktivasi. Bobot dalam NN adalah parameter utama yang berubah. Sedangkan bias adalah parameter tambahan. Nilai bias juga akan berubah seiring terjadinya training. Bias jugalah yang menyebabkan nilai dari fungsi aktivasi berpindah dari kiri / kanan.\n",
    "\n",
    "### Hidden Layer ###\n",
    "\n",
    "Hidden layer adalah layer tambahan yang berada diantara layer input dan layer output. Sebuah NN sederhana, biasanya terdiri atas input layer dan output layer. NN yang sederhana disebut sebagai **perceptron**.  \n",
    "Penambahan hidden layer dalan NN, mengubah alur struktur NN, termasuk proses update bobot.  \n",
    "\n",
    "Pada bagian sebelumnya, kita sudah memiliki sebuah model NN dengan dua buah input (node) yaitu $x_1 = 2$ dan $x_2 = 3$. Node pada hidden layer disimbolkan dengan huruf $h$. Kita buat sebuah model NN kita dengan satu layer yang terdiri dari dua buah node yaitu $h_1$ dan $h_2$ dan satu layer output dengan satu node $o_1$. "
   ]
  },
  {
   "cell_type": "code",
   "execution_count": 4,
   "metadata": {},
   "outputs": [
    {
     "name": "stdout",
     "output_type": "stream",
     "text": [
      "0.7216325609518421\n"
     ]
    }
   ],
   "source": [
    "import numpy as np\n",
    "\n",
    "class MyNeuralNetwork:\n",
    "    def __init__(self):\n",
    "        bobot = np.array([0,1]) # inisialisasi bobot awal\n",
    "        bias = 0\n",
    "        \n",
    "        self.h1 = Neuron(bobot, bias)\n",
    "        self.h2 = Neuron(bobot, bias)\n",
    "        self.o1 = Neuron(bobot, bias)\n",
    "    \n",
    "    def feedforward(self, x):\n",
    "        out_h1 = self.h1.feedforward(x)\n",
    "        out_h2 = self.h2.feedforward(x)\n",
    "        \n",
    "        out_o1 = self.o1.feedforward(np.array([out_h1, out_h2]))\n",
    "        \n",
    "        return out_o1\n",
    "    \n",
    "network = MyNeuralNetwork()\n",
    "x = np.array([2, 3])\n",
    "\n",
    "print(network.feedforward(x))"
   ]
  },
  {
   "cell_type": "markdown",
   "metadata": {},
   "source": [
    "### Loss ###\n",
    "\n",
    "Sebelum melatih NN, pertama kali kita harus menghitung seberapa bagus model NN yang telah dibuat. Di dalam statistik, ada salah satu teknik yang berfungsi untuk menghitung nilai error (loss), yaitu Mean-Squared Error (MSE). Formula dari MSE adalah:\n",
    "$$\n",
    "MSE = \\frac{1}{n} \\sum_{i=1}^{n}(y_{true} - y_{pred})^2\n",
    "$$  \n",
    "\n",
    "Berikut ini adalah contoh dari kode MSE"
   ]
  },
  {
   "cell_type": "code",
   "execution_count": 6,
   "metadata": {},
   "outputs": [
    {
     "name": "stdout",
     "output_type": "stream",
     "text": [
      "0.5\n"
     ]
    }
   ],
   "source": [
    "import numpy as np\n",
    "\n",
    "def mse_loss(yt, yp):\n",
    "    return ((yt - yp) ** 2).mean()\n",
    "\n",
    "# 1 adalah contoh output dengan jenis kelamin laki-laki\n",
    "# 0 adalah contoh output dengan jenis kelamin perempuan\n",
    "yt = np.array([1, 0, 0, 1]) \n",
    "yp = np.array([0, 0, 0, 0])\n",
    "\n",
    "print(mse_loss(yt, yp))"
   ]
  },
  {
   "cell_type": "markdown",
   "metadata": {},
   "source": [
    "Di MSE, kita membandingkan nilai class aktual (yt) dengan nilai class hasil prediksi (yp). Dari perbandingan data contoh, sudah sangat jelas nilai dari $MSE = 0.5$ dikarenakan hanya ada dua class yp yang nilainya berbeda dengan yt."
   ]
  }
 ],
 "metadata": {
  "kernelspec": {
   "display_name": "Python 3",
   "language": "python",
   "name": "python3"
  },
  "language_info": {
   "codemirror_mode": {
    "name": "ipython",
    "version": 3
   },
   "file_extension": ".py",
   "mimetype": "text/x-python",
   "name": "python",
   "nbconvert_exporter": "python",
   "pygments_lexer": "ipython3",
   "version": "3.8.10"
  }
 },
 "nbformat": 4,
 "nbformat_minor": 4
}
